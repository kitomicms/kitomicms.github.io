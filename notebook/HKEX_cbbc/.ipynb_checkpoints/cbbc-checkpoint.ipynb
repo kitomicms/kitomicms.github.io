{
 "cells": [
  {
   "cell_type": "code",
   "execution_count": 1,
   "metadata": {
    "collapsed": false
   },
   "outputs": [],
   "source": [
    "import pandas as pd\n",
    "import urllib\n",
    "import requests\n",
    "from bs4 import BeautifulSoup as bs\n",
    "import datetime\n",
    "#https://www.hkex.com.hk/chi/cbbc/newissue/newlaunch_c.htm"
   ]
  },
  {
   "cell_type": "code",
   "execution_count": 2,
   "metadata": {
    "collapsed": false
   },
   "outputs": [],
   "source": [
    "url_cbbcs = 'http://www.hkex.com.hk/eng/market/sec_tradinfo/stockcode/eisdcbbc.htm'\n",
    "thepage_cbbcs = urllib.urlopen(url_cbbcs)\n",
    "soup_cbbcs = bs(thepage_cbbcs,\"html.parser\")"
   ]
  },
  {
   "cell_type": "code",
   "execution_count": 3,
   "metadata": {
    "collapsed": false
   },
   "outputs": [],
   "source": [
    "records = []\n",
    "for tr in soup_cbbcs.findAll(\"tr\"):\n",
    "    trs = tr.findAll(\"td\")\n",
    "    record = []\n",
    "    try:\n",
    "        record.append(trs[0].text)\n",
    "        #record.append(trs[1].a['href'])\n",
    "        record.append(trs[1].a['href'])\n",
    "        record.append((trs[2].text))\n",
    "        record.append(trs[3].text)\n",
    "        #record.append(datetime.datetime.strptime(trs[3],'%d/%m/%y'))\n",
    "        records.append(record)\n",
    "    except:\n",
    "        pass\n",
    "    \n",
    "df = pd.DataFrame(data=records)\n",
    "#housekeep the df\n",
    "df.columns = ['STOCK CODE', 'NAME','LOT','EXPIRY']\n",
    "df['LOT'] = df['LOT'].str.replace(',','').astype('int')\n",
    "df['EXPIRY'] = df['EXPIRY'].apply(lambda x:datetime.datetime.strptime(x, '%d/%m/%Y'))"
   ]
  },
  {
   "cell_type": "code",
   "execution_count": 5,
   "metadata": {
    "collapsed": false
   },
   "outputs": [],
   "source": [
    "def find_between(s, first,last):\n",
    "    try:\n",
    "        start = s.index( first ) + len( first )\n",
    "        end = s.index( last, start )\n",
    "        return s[start:end]\n",
    "    except ValueError:\n",
    "        return \"\"\n",
    "    \n",
    "def find_between2(s, start, end):\n",
    "    return (s.split(start))[1].split(end)[0]\n",
    "\n"
   ]
  },
  {
   "cell_type": "code",
   "execution_count": 36,
   "metadata": {
    "collapsed": false
   },
   "outputs": [],
   "source": [
    "#Add stock code to the rows\n",
    "def cbbc_info(cbbc):\n",
    "    #for cbbc in cbbcs:\n",
    "    url_cbbc = \"\".join(str(v) for v in [\"http://www.hkex.com.hk/eng/invest/company/profile_page_e.asp?WidCoID=\" , cbbc , \"&WidCoAbbName=&Month=&langcode=e\"])\n",
    "    thepage_cbbc = urllib.urlopen(url_cbbc)\n",
    "    soup_cbbc = bs(thepage_cbbc,\"html.parser\")\n",
    "\n",
    "    records_cbbc = []\n",
    "    for tr in soup_cbbc.findAll(\"tr\"):\n",
    "        trs = tr.findAll(\"td\")\n",
    "        record_cbbc = []\n",
    "        try:\n",
    "            record_cbbc.append((''.join(trs[0].text.split())).strip())\n",
    "            records_cbbc.append(record_cbbc)\n",
    "\n",
    "        except:\n",
    "            pass\n",
    "    return find_between(str(records_cbbc[0]),'UnderlyingAssetCode:','UnderlyingAssetPrice')"
   ]
  },
  {
   "cell_type": "code",
   "execution_count": 12,
   "metadata": {
    "collapsed": false
   },
   "outputs": [],
   "source": [
    "df2 = df\n",
    "df2['Quote'] = cbbc_info(df2['STOCK CODE'])"
   ]
  },
  {
   "cell_type": "code",
   "execution_count": 37,
   "metadata": {
    "collapsed": false
   },
   "outputs": [
    {
     "name": "stdout",
     "output_type": "stream",
     "text": [
      "1288\n"
     ]
    }
   ],
   "source": [
    "print cbbc_info('60000')"
   ]
  },
  {
   "cell_type": "code",
   "execution_count": null,
   "metadata": {
    "collapsed": true
   },
   "outputs": [],
   "source": []
  }
 ],
 "metadata": {
  "kernelspec": {
   "display_name": "Python 2",
   "language": "python",
   "name": "python2"
  },
  "language_info": {
   "codemirror_mode": {
    "name": "ipython",
    "version": 2
   },
   "file_extension": ".py",
   "mimetype": "text/x-python",
   "name": "python",
   "nbconvert_exporter": "python",
   "pygments_lexer": "ipython2",
   "version": "2.7.11"
  }
 },
 "nbformat": 4,
 "nbformat_minor": 0
}
