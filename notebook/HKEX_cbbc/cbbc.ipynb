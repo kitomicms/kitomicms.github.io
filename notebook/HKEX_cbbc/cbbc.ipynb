{
 "cells": [
  {
   "cell_type": "code",
   "execution_count": 1,
   "metadata": {
    "collapsed": false
   },
   "outputs": [],
   "source": [
    "import pandas as pd\n",
    "import urllib\n",
    "import requests\n",
    "from bs4 import BeautifulSoup as bs\n",
    "import datetime\n",
    "#https://www.hkex.com.hk/chi/cbbc/newissue/newlaunch_c.htm\n",
    "import functions"
   ]
  },
  {
   "cell_type": "code",
   "execution_count": 2,
   "metadata": {
    "collapsed": false
   },
   "outputs": [],
   "source": [
    "url_cbbcs = 'http://www.hkex.com.hk/eng/market/sec_tradinfo/stockcode/eisdcbbc.htm'\n",
    "thepage_cbbcs = urllib.urlopen(url_cbbcs)\n",
    "soup_cbbcs = bs(thepage_cbbcs,\"html.parser\")"
   ]
  },
  {
   "cell_type": "code",
   "execution_count": 27,
   "metadata": {
    "collapsed": false
   },
   "outputs": [],
   "source": [
    "records = []\n",
    "for tr in soup_cbbcs.findAll(\"tr\"):\n",
    "    trs = tr.findAll(\"td\")\n",
    "    record = []\n",
    "    try:\n",
    "        record.append(trs[0].text)\n",
    "        #record.append(trs[1].a['href'])\n",
    "        record.append(trs[1].a['href'])\n",
    "        record.append((trs[2].text))\n",
    "        record.append(trs[3].text)\n",
    "        #record.append(datetime.datetime.strptime(trs[3],'%d/%m/%y'))\n",
    "        records.append(record)\n",
    "    except:\n",
    "        pass\n",
    "    \n",
    "df = pd.DataFrame(data=records)\n",
    "#housekeep the df\n",
    "df.columns = ['STOCK CODE', 'NAME','LOT','EXPIRY']\n",
    "df['LOT'] = df['LOT'].str.replace(',','').astype('int')\n",
    "df['EXPIRY'] = df['EXPIRY'].apply(lambda x:datetime.datetime.strptime(x, '%d/%m/%Y'))\n",
    "df['STOCK CODE'] = df['STOCK CODE'].astype('int')"
   ]
  },
  {
   "cell_type": "code",
   "execution_count": 28,
   "metadata": {
    "collapsed": false
   },
   "outputs": [],
   "source": [
    "df2 = df\n",
    "\n",
    "#df2.loc[:,'Underlying Quote'] = pd.Series(cbbc_loop(df2['STOCK CODE']),len(df2))"
   ]
  },
  {
   "cell_type": "code",
   "execution_count": 29,
   "metadata": {
    "collapsed": false
   },
   "outputs": [
    {
     "data": {
      "text/html": [
       "<div>\n",
       "<table border=\"1\" class=\"dataframe\">\n",
       "  <thead>\n",
       "    <tr style=\"text-align: right;\">\n",
       "      <th></th>\n",
       "      <th>STOCK CODE</th>\n",
       "      <th>NAME</th>\n",
       "      <th>LOT</th>\n",
       "      <th>EXPIRY</th>\n",
       "    </tr>\n",
       "  </thead>\n",
       "  <tbody>\n",
       "    <tr>\n",
       "      <th>0</th>\n",
       "      <td>60000</td>\n",
       "      <td>../../../invest/company/profile_page_e.asp?Wid...</td>\n",
       "      <td>10000</td>\n",
       "      <td>2016-12-30</td>\n",
       "    </tr>\n",
       "    <tr>\n",
       "      <th>1</th>\n",
       "      <td>60001</td>\n",
       "      <td>../../../invest/company/profile_page_e.asp?Wid...</td>\n",
       "      <td>10000</td>\n",
       "      <td>2016-11-21</td>\n",
       "    </tr>\n",
       "    <tr>\n",
       "      <th>2</th>\n",
       "      <td>60002</td>\n",
       "      <td>../../../invest/company/profile_page_e.asp?Wid...</td>\n",
       "      <td>10000</td>\n",
       "      <td>2017-01-11</td>\n",
       "    </tr>\n",
       "    <tr>\n",
       "      <th>3</th>\n",
       "      <td>60003</td>\n",
       "      <td>../../../invest/company/profile_page_e.asp?Wid...</td>\n",
       "      <td>2000</td>\n",
       "      <td>2017-01-11</td>\n",
       "    </tr>\n",
       "    <tr>\n",
       "      <th>4</th>\n",
       "      <td>60004</td>\n",
       "      <td>../../../invest/company/profile_page_e.asp?Wid...</td>\n",
       "      <td>10000</td>\n",
       "      <td>2017-01-26</td>\n",
       "    </tr>\n",
       "  </tbody>\n",
       "</table>\n",
       "</div>"
      ],
      "text/plain": [
       "   STOCK CODE                                               NAME    LOT  \\\n",
       "0       60000  ../../../invest/company/profile_page_e.asp?Wid...  10000   \n",
       "1       60001  ../../../invest/company/profile_page_e.asp?Wid...  10000   \n",
       "2       60002  ../../../invest/company/profile_page_e.asp?Wid...  10000   \n",
       "3       60003  ../../../invest/company/profile_page_e.asp?Wid...   2000   \n",
       "4       60004  ../../../invest/company/profile_page_e.asp?Wid...  10000   \n",
       "\n",
       "      EXPIRY  \n",
       "0 2016-12-30  \n",
       "1 2016-11-21  \n",
       "2 2017-01-11  \n",
       "3 2017-01-11  \n",
       "4 2017-01-26  "
      ]
     },
     "execution_count": 29,
     "metadata": {},
     "output_type": "execute_result"
    }
   ],
   "source": [
    "df2.head()"
   ]
  },
  {
   "cell_type": "code",
   "execution_count": 30,
   "metadata": {
    "collapsed": false
   },
   "outputs": [
    {
     "data": {
      "text/html": [
       "<div>\n",
       "<table border=\"1\" class=\"dataframe\">\n",
       "  <thead>\n",
       "    <tr style=\"text-align: right;\">\n",
       "      <th></th>\n",
       "      <th>STOCK CODE</th>\n",
       "      <th>w</th>\n",
       "    </tr>\n",
       "  </thead>\n",
       "  <tbody>\n",
       "    <tr>\n",
       "      <th>2101</th>\n",
       "      <td>69986</td>\n",
       "      <td>None</td>\n",
       "    </tr>\n",
       "    <tr>\n",
       "      <th>2102</th>\n",
       "      <td>69987</td>\n",
       "      <td>None</td>\n",
       "    </tr>\n",
       "    <tr>\n",
       "      <th>2103</th>\n",
       "      <td>69993</td>\n",
       "      <td>None</td>\n",
       "    </tr>\n",
       "    <tr>\n",
       "      <th>2104</th>\n",
       "      <td>69994</td>\n",
       "      <td>None</td>\n",
       "    </tr>\n",
       "    <tr>\n",
       "      <th>2105</th>\n",
       "      <td>69999</td>\n",
       "      <td>None</td>\n",
       "    </tr>\n",
       "  </tbody>\n",
       "</table>\n",
       "</div>"
      ],
      "text/plain": [
       "      STOCK CODE     w\n",
       "2101       69986  None\n",
       "2102       69987  None\n",
       "2103       69993  None\n",
       "2104       69994  None\n",
       "2105       69999  None"
      ]
     },
     "execution_count": 30,
     "metadata": {},
     "output_type": "execute_result"
    }
   ],
   "source": [
    "xl = pd.ExcelFile(\"pandas_simple.xlsx\")\n",
    "\n",
    "excel_result = xl.parse(\"Sheet2\")\n",
    "excel_result.tail()"
   ]
  },
  {
   "cell_type": "code",
   "execution_count": 45,
   "metadata": {
    "collapsed": false
   },
   "outputs": [
    {
     "data": {
      "text/plain": [
       "1607"
      ]
     },
     "execution_count": 45,
     "metadata": {},
     "output_type": "execute_result"
    }
   ],
   "source": [
    "#[Task] Find out what is outstanding\n",
    "\n",
    "len(excel_result[excel_result['w'] == 'None'])"
   ]
  },
  {
   "cell_type": "code",
   "execution_count": 46,
   "metadata": {
    "collapsed": false
   },
   "outputs": [
    {
     "data": {
      "text/plain": [
       "499    61565\n",
       "500    61566\n",
       "501    61578\n",
       "502    61580\n",
       "503    61610\n",
       "Name: STOCK CODE, dtype: int64"
      ]
     },
     "execution_count": 46,
     "metadata": {},
     "output_type": "execute_result"
    }
   ],
   "source": [
    "outstanding = excel_result['STOCK CODE'][excel_result['w']=='None']\n",
    "outstanding.head()"
   ]
  },
  {
   "cell_type": "code",
   "execution_count": 48,
   "metadata": {
    "collapsed": false
   },
   "outputs": [
    {
     "data": {
      "text/plain": [
       "['N/A', 'N/A', '941', '688', 'N/A', 'N/A', 'N/A', 'N/A', 'N/A', 'N/A']"
      ]
     },
     "execution_count": 48,
     "metadata": {},
     "output_type": "execute_result"
    }
   ],
   "source": [
    "#foo = cbbc_loop(df3['STOCK CODE'])\n",
    "#df3.loc[:,'Q'] = pd.Series(foo,range(0,len(df3)))\n",
    "functions.cbbc_loop(outstanding[0:10])\n",
    "\n",
    "\n",
    "#[Next time] Next step how to update value of filtered result"
   ]
  },
  {
   "cell_type": "code",
   "execution_count": 69,
   "metadata": {
    "collapsed": false
   },
   "outputs": [],
   "source": [
    "#boo = cbbc_loop(df2['STOCK CODE'][0:499])"
   ]
  },
  {
   "cell_type": "code",
   "execution_count": 138,
   "metadata": {
    "collapsed": false
   },
   "outputs": [],
   "source": [
    "# Create a Pandas dataframe from some data.\n",
    "df3 = df2[['STOCK CODE','Quote']]\n",
    "\n",
    "# Create a Pandas Excel writer using XlsxWriter as the engine.\n",
    "writer = pd.ExcelWriter('pandas_simple.xlsx', engine='xlsxwriter')\n",
    "\n",
    "# Convert the dataframe to an XlsxWriter Excel object.\n",
    "df_new.to_excel(writer, sheet_name='Sheet2')\n",
    "\n",
    "# Close the Pandas Excel writer and output the Excel file.\n",
    "writer.save()"
   ]
  },
  {
   "cell_type": "code",
   "execution_count": 1,
   "metadata": {
    "collapsed": false
   },
   "outputs": [
    {
     "ename": "NameError",
     "evalue": "name 'df' is not defined",
     "output_type": "error",
     "traceback": [
      "\u001b[0;31m---------------------------------------------------------------------------\u001b[0m",
      "\u001b[0;31mNameError\u001b[0m                                 Traceback (most recent call last)",
      "\u001b[0;32m<ipython-input-1-7ed0097d7e9e>\u001b[0m in \u001b[0;36m<module>\u001b[0;34m()\u001b[0m\n\u001b[0;32m----> 1\u001b[0;31m \u001b[0mdf\u001b[0m\u001b[0;34m\u001b[0m\u001b[0m\n\u001b[0m",
      "\u001b[0;31mNameError\u001b[0m: name 'df' is not defined"
     ]
    }
   ],
   "source": [
    "df"
   ]
  },
  {
   "cell_type": "code",
   "execution_count": null,
   "metadata": {
    "collapsed": true
   },
   "outputs": [],
   "source": []
  }
 ],
 "metadata": {
  "kernelspec": {
   "display_name": "Python 2",
   "language": "python",
   "name": "python2"
  },
  "language_info": {
   "codemirror_mode": {
    "name": "ipython",
    "version": 2
   },
   "file_extension": ".py",
   "mimetype": "text/x-python",
   "name": "python",
   "nbconvert_exporter": "python",
   "pygments_lexer": "ipython2",
   "version": "2.7.11"
  }
 },
 "nbformat": 4,
 "nbformat_minor": 0
}
