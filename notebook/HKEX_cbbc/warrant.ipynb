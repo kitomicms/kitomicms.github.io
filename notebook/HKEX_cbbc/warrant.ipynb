{
 "cells": [
  {
   "cell_type": "code",
   "execution_count": 1,
   "metadata": {
    "collapsed": true
   },
   "outputs": [],
   "source": [
    "import pandas as pd\n",
    "import urllib\n",
    "import requests\n",
    "from bs4 import BeautifulSoup as bs\n",
    "import datetime\n",
    "#https://www.hkex.com.hk/chi/cbbc/newissue/newlaunch_c.htm"
   ]
  },
  {
   "cell_type": "code",
   "execution_count": 3,
   "metadata": {
    "collapsed": true
   },
   "outputs": [],
   "source": [
    "url_cbbcs = 'http://www.hkex.com.hk/chi/market/sec_tradinfo/stockcode/eisdwarr_c.htm'\n",
    "thepage_cbbcs = urllib.urlopen(url_cbbcs)\n",
    "soup_cbbcs = bs(thepage_cbbcs,\"html.parser\")"
   ]
  },
  {
   "cell_type": "code",
   "execution_count": 4,
   "metadata": {
    "collapsed": true
   },
   "outputs": [],
   "source": [
    "records = []\n",
    "for tr in soup_cbbcs.findAll(\"tr\"):\n",
    "    trs = tr.findAll(\"td\")\n",
    "    record = []\n",
    "    try:\n",
    "        record.append(trs[0].text)\n",
    "        #record.append(trs[1].a['href'])\n",
    "        record.append(trs[1].a['href'])\n",
    "        record.append((trs[2].text))\n",
    "        record.append(trs[3].text)\n",
    "        #record.append(datetime.datetime.strptime(trs[3],'%d/%m/%y'))\n",
    "        records.append(record)\n",
    "    except:\n",
    "        pass\n",
    "    \n",
    "df = pd.DataFrame(data=records)\n",
    "#housekeep the df\n",
    "df.columns = ['STOCK CODE', 'NAME','LOT','EXPIRY']\n",
    "df['LOT'] = df['LOT'].str.replace(',','').astype('int')\n",
    "df['EXPIRY'] = df['EXPIRY'].apply(lambda x:datetime.datetime.strptime(x, '%d/%m/%Y'))"
   ]
  },
  {
   "cell_type": "code",
   "execution_count": 5,
   "metadata": {
    "collapsed": false
   },
   "outputs": [
    {
     "data": {
      "text/plain": [
       "14604"
      ]
     },
     "execution_count": 5,
     "metadata": {},
     "output_type": "execute_result"
    }
   ],
   "source": [
    "df.size"
   ]
  },
  {
   "cell_type": "code",
   "execution_count": 6,
   "metadata": {
    "collapsed": false
   },
   "outputs": [
    {
     "data": {
      "text/html": [
       "<div>\n",
       "<table border=\"1\" class=\"dataframe\">\n",
       "  <thead>\n",
       "    <tr style=\"text-align: right;\">\n",
       "      <th></th>\n",
       "      <th>STOCK CODE</th>\n",
       "      <th>NAME</th>\n",
       "      <th>LOT</th>\n",
       "      <th>EXPIRY</th>\n",
       "    </tr>\n",
       "  </thead>\n",
       "  <tbody>\n",
       "    <tr>\n",
       "      <th>0</th>\n",
       "      <td>10354</td>\n",
       "      <td>../../../invest/company/profile_page_c.asp?Wid...</td>\n",
       "      <td>10000</td>\n",
       "      <td>2017-03-10</td>\n",
       "    </tr>\n",
       "    <tr>\n",
       "      <th>1</th>\n",
       "      <td>10359</td>\n",
       "      <td>../../../invest/company/profile_page_c.asp?Wid...</td>\n",
       "      <td>10000</td>\n",
       "      <td>2016-12-09</td>\n",
       "    </tr>\n",
       "    <tr>\n",
       "      <th>2</th>\n",
       "      <td>10362</td>\n",
       "      <td>../../../invest/company/profile_page_c.asp?Wid...</td>\n",
       "      <td>10000</td>\n",
       "      <td>2016-12-09</td>\n",
       "    </tr>\n",
       "    <tr>\n",
       "      <th>3</th>\n",
       "      <td>10365</td>\n",
       "      <td>../../../invest/company/profile_page_c.asp?Wid...</td>\n",
       "      <td>10000</td>\n",
       "      <td>2016-12-09</td>\n",
       "    </tr>\n",
       "    <tr>\n",
       "      <th>4</th>\n",
       "      <td>10372</td>\n",
       "      <td>../../../invest/company/profile_page_c.asp?Wid...</td>\n",
       "      <td>10000</td>\n",
       "      <td>2016-11-17</td>\n",
       "    </tr>\n",
       "  </tbody>\n",
       "</table>\n",
       "</div>"
      ],
      "text/plain": [
       "  STOCK CODE                                               NAME    LOT  \\\n",
       "0      10354  ../../../invest/company/profile_page_c.asp?Wid...  10000   \n",
       "1      10359  ../../../invest/company/profile_page_c.asp?Wid...  10000   \n",
       "2      10362  ../../../invest/company/profile_page_c.asp?Wid...  10000   \n",
       "3      10365  ../../../invest/company/profile_page_c.asp?Wid...  10000   \n",
       "4      10372  ../../../invest/company/profile_page_c.asp?Wid...  10000   \n",
       "\n",
       "      EXPIRY  \n",
       "0 2017-03-10  \n",
       "1 2016-12-09  \n",
       "2 2016-12-09  \n",
       "3 2016-12-09  \n",
       "4 2016-11-17  "
      ]
     },
     "execution_count": 6,
     "metadata": {},
     "output_type": "execute_result"
    }
   ],
   "source": [
    "df.head()"
   ]
  },
  {
   "cell_type": "code",
   "execution_count": null,
   "metadata": {
    "collapsed": true
   },
   "outputs": [],
   "source": []
  }
 ],
 "metadata": {
  "kernelspec": {
   "display_name": "Python 2",
   "language": "python",
   "name": "python2"
  },
  "language_info": {
   "codemirror_mode": {
    "name": "ipython",
    "version": 2
   },
   "file_extension": ".py",
   "mimetype": "text/x-python",
   "name": "python",
   "nbconvert_exporter": "python",
   "pygments_lexer": "ipython2",
   "version": "2.7.11"
  }
 },
 "nbformat": 4,
 "nbformat_minor": 0
}
