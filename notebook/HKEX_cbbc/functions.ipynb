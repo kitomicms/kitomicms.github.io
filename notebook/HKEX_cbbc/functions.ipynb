{
 "cells": [
  {
   "cell_type": "code",
   "execution_count": 3,
   "metadata": {
    "collapsed": true
   },
   "outputs": [],
   "source": [
    "import pandas as pd\n",
    "import urllib\n",
    "import requests\n",
    "from bs4 import BeautifulSoup as bs\n",
    "import datetime\n",
    "#https://www.hkex.com.hk/chi/cbbc/newissue/newlaunch_c.htm"
   ]
  },
  {
   "cell_type": "code",
   "execution_count": 4,
   "metadata": {
    "collapsed": true
   },
   "outputs": [],
   "source": [
    "def find_between(s, first,last):\n",
    "    try:\n",
    "        start = s.index( first ) + len( first )\n",
    "        end = s.index( last, start )\n",
    "        return s[start:end]\n",
    "    except ValueError:\n",
    "        return \"\"\n",
    "    \n",
    "def find_between2(s, start, end):\n",
    "    return (s.split(start))[1].split(end)[0]"
   ]
  },
  {
   "cell_type": "code",
   "execution_count": 5,
   "metadata": {
    "collapsed": true
   },
   "outputs": [],
   "source": [
    "def cbbc_loop(cbbcs):\n",
    "    result = []\n",
    "    for cbbc in cbbcs:\n",
    "        url_cbbc = \"\".join(str(v) for v in [\"http://www.hkex.com.hk/eng/invest/company/profile_page_e.asp?WidCoID=\" , cbbc , \"&WidCoAbbName=&Month=&langcode=e\"])\n",
    "        thepage_cbbc = urllib.urlopen(url_cbbc)\n",
    "        soup_cbbc = bs(thepage_cbbc,\"html.parser\")\n",
    "\n",
    "        records_cbbc = []\n",
    "        for tr in soup_cbbc.findAll(\"tr\"):\n",
    "            trs = tr.findAll(\"td\")\n",
    "            record_cbbc = []\n",
    "            try:\n",
    "                record_cbbc.append((''.join(trs[0].text.split())).strip())\n",
    "                records_cbbc.append(record_cbbc)\n",
    "\n",
    "            except:\n",
    "                pass\n",
    "        \n",
    "        result.append(find_between(str(records_cbbc[0]),'UnderlyingAssetCode:','UnderlyingAssetPrice'))\n",
    "    return result"
   ]
  }
 ],
 "metadata": {
  "kernelspec": {
   "display_name": "Python 2",
   "language": "python",
   "name": "python2"
  },
  "language_info": {
   "codemirror_mode": {
    "name": "ipython",
    "version": 2
   },
   "file_extension": ".py",
   "mimetype": "text/x-python",
   "name": "python",
   "nbconvert_exporter": "python",
   "pygments_lexer": "ipython2",
   "version": "2.7.11"
  }
 },
 "nbformat": 4,
 "nbformat_minor": 0
}
