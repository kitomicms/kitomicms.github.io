{
 "cells": [
  {
   "cell_type": "code",
   "execution_count": 1,
   "metadata": {
    "collapsed": true
   },
   "outputs": [],
   "source": [
    "##TDL\n",
    "#auto get zip file and unzip file to get the excel file"
   ]
  },
  {
   "cell_type": "code",
   "execution_count": 2,
   "metadata": {
    "collapsed": false
   },
   "outputs": [],
   "source": [
    "import pandas as pd\n",
    "#tb = pd.read_excel(\"FinFutYY.xls\")\n",
    "tb2 = pd.read_excel(\"Annual.xls\")\n",
    "#Use this link\n",
    "#http://www.cftc.gov/MarketReports/CommitmentsofTraders/HistoricalCompressed/index.htm\n",
    "#the link below is the one\n",
    "#http://www.cftc.gov/files/dea/history/dea_fut_xls_2016.zip"
   ]
  },
  {
   "cell_type": "code",
   "execution_count": 3,
   "metadata": {
    "collapsed": false
   },
   "outputs": [],
   "source": [
    "tb2['SNP'] = tb2['NonComm_Positions_Long_All'] - tb2['NonComm_Positions_Short_All']\n",
    "shown_col = ['Report_Date_as_MM_DD_YYYY','NonComm_Positions_Long_All','NonComm_Positions_Short_All','SNP']"
   ]
  },
  {
   "cell_type": "code",
   "execution_count": 4,
   "metadata": {
    "collapsed": false
   },
   "outputs": [],
   "source": [
    "result = tb2[tb2[\"Market_and_Exchange_Names\"] == \"E-MINI S&P 500 STOCK INDEX - CHICAGO MERCANTILE EXCHANGE\"][shown_col]"
   ]
  },
  {
   "cell_type": "code",
   "execution_count": 5,
   "metadata": {
    "collapsed": false
   },
   "outputs": [
    {
     "data": {
      "text/html": [
       "<div>\n",
       "<table border=\"1\" class=\"dataframe\">\n",
       "  <thead>\n",
       "    <tr style=\"text-align: right;\">\n",
       "      <th></th>\n",
       "      <th>Report_Date_as_MM_DD_YYYY</th>\n",
       "      <th>NonComm_Positions_Long_All</th>\n",
       "      <th>NonComm_Positions_Short_All</th>\n",
       "      <th>SNP</th>\n",
       "    </tr>\n",
       "  </thead>\n",
       "  <tbody>\n",
       "    <tr>\n",
       "      <th>9414</th>\n",
       "      <td>2016-11-01</td>\n",
       "      <td>490171</td>\n",
       "      <td>510898</td>\n",
       "      <td>-20727</td>\n",
       "    </tr>\n",
       "    <tr>\n",
       "      <th>9415</th>\n",
       "      <td>2016-10-25</td>\n",
       "      <td>499073</td>\n",
       "      <td>520543</td>\n",
       "      <td>-21470</td>\n",
       "    </tr>\n",
       "    <tr>\n",
       "      <th>9416</th>\n",
       "      <td>2016-10-18</td>\n",
       "      <td>512423</td>\n",
       "      <td>489391</td>\n",
       "      <td>23032</td>\n",
       "    </tr>\n",
       "    <tr>\n",
       "      <th>9417</th>\n",
       "      <td>2016-10-11</td>\n",
       "      <td>501312</td>\n",
       "      <td>535145</td>\n",
       "      <td>-33833</td>\n",
       "    </tr>\n",
       "    <tr>\n",
       "      <th>9418</th>\n",
       "      <td>2016-10-04</td>\n",
       "      <td>533493</td>\n",
       "      <td>488358</td>\n",
       "      <td>45135</td>\n",
       "    </tr>\n",
       "  </tbody>\n",
       "</table>\n",
       "</div>"
      ],
      "text/plain": [
       "     Report_Date_as_MM_DD_YYYY  NonComm_Positions_Long_All  \\\n",
       "9414                2016-11-01                      490171   \n",
       "9415                2016-10-25                      499073   \n",
       "9416                2016-10-18                      512423   \n",
       "9417                2016-10-11                      501312   \n",
       "9418                2016-10-04                      533493   \n",
       "\n",
       "      NonComm_Positions_Short_All    SNP  \n",
       "9414                       510898 -20727  \n",
       "9415                       520543 -21470  \n",
       "9416                       489391  23032  \n",
       "9417                       535145 -33833  \n",
       "9418                       488358  45135  "
      ]
     },
     "execution_count": 5,
     "metadata": {},
     "output_type": "execute_result"
    }
   ],
   "source": [
    "result.head(5)"
   ]
  },
  {
   "cell_type": "code",
   "execution_count": null,
   "metadata": {
    "collapsed": true
   },
   "outputs": [],
   "source": []
  }
 ],
 "metadata": {
  "kernelspec": {
   "display_name": "Python 2",
   "language": "python",
   "name": "python2"
  },
  "language_info": {
   "codemirror_mode": {
    "name": "ipython",
    "version": 2
   },
   "file_extension": ".py",
   "mimetype": "text/x-python",
   "name": "python",
   "nbconvert_exporter": "python",
   "pygments_lexer": "ipython2",
   "version": "2.7.11"
  }
 },
 "nbformat": 4,
 "nbformat_minor": 0
}
