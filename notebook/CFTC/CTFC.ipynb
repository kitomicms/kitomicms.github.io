{
 "cells": [
  {
   "cell_type": "code",
   "execution_count": 51,
   "metadata": {
    "collapsed": true
   },
   "outputs": [],
   "source": [
    "import pandas as pd"
   ]
  },
  {
   "cell_type": "code",
   "execution_count": 52,
   "metadata": {
    "collapsed": false
   },
   "outputs": [],
   "source": [
    "#tb = pd.read_excel(\"FinFutYY.xls\")\n",
    "tb2 = pd.read_excel(\"Annual.xls\")\n",
    "#http://www.cftc.gov/MarketReports/CommitmentsofTraders/HistoricalCompressed/index.htm\n",
    "#http://www.cftc.gov/files/dea/history/dea_fut_xls_2016.zip"
   ]
  },
  {
   "cell_type": "code",
   "execution_count": 53,
   "metadata": {
    "collapsed": false
   },
   "outputs": [],
   "source": [
    "tb2['SNP'] = tb2['NonComm_Positions_Long_All'] - tb2['NonComm_Positions_Short_All']\n",
    "shown_col = ['Report_Date_as_MM_DD_YYYY','NonComm_Positions_Long_All','NonComm_Positions_Short_All','SNP']"
   ]
  },
  {
   "cell_type": "code",
   "execution_count": 54,
   "metadata": {
    "collapsed": false
   },
   "outputs": [],
   "source": [
    "result = tb2[tb2[\"Market_and_Exchange_Names\"] == \"E-MINI S&P 500 STOCK INDEX - CHICAGO MERCANTILE EXCHANGE\"][shown_col]"
   ]
  },
  {
   "cell_type": "code",
   "execution_count": 55,
   "metadata": {
    "collapsed": false
   },
   "outputs": [
    {
     "data": {
      "text/html": [
       "<div>\n",
       "<table border=\"1\" class=\"dataframe\">\n",
       "  <thead>\n",
       "    <tr style=\"text-align: right;\">\n",
       "      <th></th>\n",
       "      <th>Report_Date_as_MM_DD_YYYY</th>\n",
       "      <th>NonComm_Positions_Long_All</th>\n",
       "      <th>NonComm_Positions_Short_All</th>\n",
       "      <th>SNP</th>\n",
       "    </tr>\n",
       "  </thead>\n",
       "  <tbody>\n",
       "    <tr>\n",
       "      <th>8753</th>\n",
       "      <td>2016-10-11</td>\n",
       "      <td>501312</td>\n",
       "      <td>535145</td>\n",
       "      <td>-33833</td>\n",
       "    </tr>\n",
       "    <tr>\n",
       "      <th>8754</th>\n",
       "      <td>2016-10-04</td>\n",
       "      <td>533493</td>\n",
       "      <td>488358</td>\n",
       "      <td>45135</td>\n",
       "    </tr>\n",
       "    <tr>\n",
       "      <th>8755</th>\n",
       "      <td>2016-09-27</td>\n",
       "      <td>530452</td>\n",
       "      <td>470323</td>\n",
       "      <td>60129</td>\n",
       "    </tr>\n",
       "    <tr>\n",
       "      <th>8756</th>\n",
       "      <td>2016-09-20</td>\n",
       "      <td>536166</td>\n",
       "      <td>440713</td>\n",
       "      <td>95453</td>\n",
       "    </tr>\n",
       "    <tr>\n",
       "      <th>8757</th>\n",
       "      <td>2016-09-13</td>\n",
       "      <td>623044</td>\n",
       "      <td>529502</td>\n",
       "      <td>93542</td>\n",
       "    </tr>\n",
       "  </tbody>\n",
       "</table>\n",
       "</div>"
      ],
      "text/plain": [
       "     Report_Date_as_MM_DD_YYYY  NonComm_Positions_Long_All  \\\n",
       "8753                2016-10-11                      501312   \n",
       "8754                2016-10-04                      533493   \n",
       "8755                2016-09-27                      530452   \n",
       "8756                2016-09-20                      536166   \n",
       "8757                2016-09-13                      623044   \n",
       "\n",
       "      NonComm_Positions_Short_All    SNP  \n",
       "8753                       535145 -33833  \n",
       "8754                       488358  45135  \n",
       "8755                       470323  60129  \n",
       "8756                       440713  95453  \n",
       "8757                       529502  93542  "
      ]
     },
     "execution_count": 55,
     "metadata": {},
     "output_type": "execute_result"
    }
   ],
   "source": [
    "result.head(5)"
   ]
  },
  {
   "cell_type": "code",
   "execution_count": null,
   "metadata": {
    "collapsed": true
   },
   "outputs": [],
   "source": []
  }
 ],
 "metadata": {
  "kernelspec": {
   "display_name": "Python 2",
   "language": "python",
   "name": "python2"
  },
  "language_info": {
   "codemirror_mode": {
    "name": "ipython",
    "version": 2
   },
   "file_extension": ".py",
   "mimetype": "text/x-python",
   "name": "python",
   "nbconvert_exporter": "python",
   "pygments_lexer": "ipython2",
   "version": "2.7.11"
  }
 },
 "nbformat": 4,
 "nbformat_minor": 0
}
