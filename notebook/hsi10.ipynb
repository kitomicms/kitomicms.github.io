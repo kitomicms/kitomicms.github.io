{
 "cells": [
  {
   "cell_type": "code",
   "execution_count": 2,
   "metadata": {
    "collapsed": false
   },
   "outputs": [
    {
     "name": "stdout",
     "output_type": "stream",
     "text": [
      "0700.HK 153.90   0.70(0.46%)May 6, 3:59AM EDTUp\n",
      "0005.HK 48.35   1.10(2.22%)May 6, 3:59AM EDTDown\n",
      "1299.HK 44.45   1.35(2.95%)May 6, 3:59AM EDTDown\n",
      "0941.HK 85.85   2.05(2.33%)May 6, 3:59AM EDTDown\n",
      "0939.HK 4.76   0.07(1.45%)May 6, 3:59AM EDTDown\n",
      "1398.HK 3.98   0.05(1.24%)May 6, 3:59AM EDTDown\n",
      "3988.HK 3.02   0.05(1.63%)May 6, 3:59AM EDTDown\n",
      "0001.HK 92.70   0.10(0.11%)May 6, 3:59AM EDTUp\n",
      "0388.HK 184.90   3.50(1.86%)May 6, 3:59AM EDTDown\n",
      "2318.HK 34.55   0.90(2.54%)May 6, 3:59AM EDTDown\n"
     ]
    }
   ],
   "source": [
    "# HSI members top 10 by percentage\n",
    "\n",
    "from lxml import html,cssselect\n",
    "import requests\n",
    "import sys\n",
    "\n",
    "stocks = [\"0700.HK\",\"0005.HK\",\"1299.HK\",\"0941.HK\",\"0939.HK\",\"1398.HK\",\"3988.HK\",\"0001.HK\",\"0388.HK\",\"2318.HK\"]\n",
    "\n",
    "def get_quote(name):\n",
    "    \n",
    "    page = requests.get('http://finance.yahoo.com/q?s='+ name )\n",
    "    tree = html.fromstring(page.content)\n",
    "\n",
    "    path = '//*[@id=\"yfi_rt_quote_summary\"]/div[2]/div/span/span/text()'\n",
    "\n",
    "    quote = tree.xpath(path)\n",
    "    \n",
    "    price_sign = tree.cssselect(\"span span img\")\n",
    "    \n",
    "    \n",
    "    string = \"\"\n",
    "    \n",
    "    \n",
    "    for foo in quote:\n",
    "        string = string + foo\n",
    "\n",
    "    print name + \" \" + string + price_sign[0].attrib['alt']\n",
    "    \n",
    "for name in stocks:\n",
    "    get_quote(name)\n",
    "\n",
    "    \n",
    "    \n",
    "# how to get the up or down sign\n"
   ]
  },
  {
   "cell_type": "code",
   "execution_count": null,
   "metadata": {
    "collapsed": true
   },
   "outputs": [],
   "source": []
  }
 ],
 "metadata": {
  "kernelspec": {
   "display_name": "Python 2",
   "language": "python",
   "name": "python2"
  },
  "language_info": {
   "codemirror_mode": {
    "name": "ipython",
    "version": 2
   },
   "file_extension": ".py",
   "mimetype": "text/x-python",
   "name": "python",
   "nbconvert_exporter": "python",
   "pygments_lexer": "ipython2",
   "version": "2.7.11"
  }
 },
 "nbformat": 4,
 "nbformat_minor": 0
}
