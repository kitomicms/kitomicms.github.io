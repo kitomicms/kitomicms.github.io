{
 "cells": [
  {
   "cell_type": "code",
   "execution_count": 46,
   "metadata": {
    "collapsed": false
   },
   "outputs": [
    {
     "data": {
      "text/html": [
       "<div>\n",
       "<table border=\"1\" class=\"dataframe\">\n",
       "  <thead>\n",
       "    <tr style=\"text-align: right;\">\n",
       "      <th></th>\n",
       "      <th>Ticker name</th>\n",
       "      <th>Price</th>\n",
       "      <th>Change</th>\n",
       "      <th>Change percentage</th>\n",
       "      <th>Sign</th>\n",
       "    </tr>\n",
       "  </thead>\n",
       "  <tbody>\n",
       "  </tbody>\n",
       "</table>\n",
       "</div>"
      ],
      "text/plain": [
       "Empty DataFrame\n",
       "Columns: [Ticker name, Price, Change, Change percentage, Sign]\n",
       "Index: []"
      ]
     },
     "execution_count": 46,
     "metadata": {},
     "output_type": "execute_result"
    }
   ],
   "source": [
    "# HSI members top 10 by percentage\n",
    "from lxml import html,cssselect\n",
    "import requests\n",
    "import sys\n",
    "import pandas as pd\n",
    "stocks = [\"0700.HK\",\"0005.HK\",\"1299.HK\",\"0941.HK\",\"0939.HK\",\"1398.HK\",\"3988.HK\",\"0001.HK\",\"0388.HK\",\"2318.HK\"]\n",
    "def get_quote(name):   \n",
    "    page = requests.get('http://finance.yahoo.com/q?s='+ name )\n",
    "    tree = html.fromstring(page.content)\n",
    "\n",
    "    path = '//*[@id=\"yfi_rt_quote_summary\"]/div[2]/div/span/span/text()'\n",
    "    path2 = '//*[@id=\"yfi_rt_quote_summary\"]/div[1]/div/h2/text()'\n",
    "\n",
    "    quote = tree.xpath(path)\n",
    "    quote2 = tree.xpath(path2)\n",
    "    \n",
    "    price_sign = tree.cssselect(\"span span img\")\n",
    "    \n",
    "    df = pd.DataFrame()\n",
    "    \n",
    "    df['Price'] = quote[0].strip()\n",
    "\n",
    "    df['Change'] = quote[1].strip()\n",
    "    df['Change percentage'] = quote[2].strip()\n",
    "    try:\n",
    "        df['Sign'] = price_sign[0].attrib['alt']\n",
    "    except:\n",
    "        df['Sign'] = 'NaN'\n",
    "    df['Ticker name'] = name\n",
    "    return df\n",
    "    #try:\n",
    "     #   print name + (quote2[0])[:(quote2[0]).index(' (')] + \" \" + string + price_sign[0].attrib['alt']\n",
    "    #except:\n",
    "    #    print name + (quote2[0])[:(quote2[0]).index(' (')] +  \" \" + string\n",
    "    \n",
    "df2 = pd.DataFrame(columns=['Ticker name','Price','Change','Change percentage','Sign'])\n",
    "for name in stocks:\n",
    "    df2.append(get_quote(name))\n",
    "    get_quote(name)\n",
    "df2\n",
    "# how to get the up or down sign\n"
   ]
  },
  {
   "cell_type": "code",
   "execution_count": 10,
   "metadata": {
    "collapsed": false
   },
   "outputs": [
    {
     "name": "stdout",
     "output_type": "stream",
     "text": [
      "HSBC Holdings plc\n",
      "HSBC Holdings plc (0005.HK)\n"
     ]
    }
   ],
   "source": [
    "page = requests.get('http://finance.yahoo.com/q?s=0005.hk')\n",
    "tree = html.fromstring(page.content)\n",
    "path = '//*[@id=\"yfi_rt_quote_summary\"]/div[1]/div/h2/text()'\n",
    "quote = tree.xpath(path)\n",
    "string = \"\"\n",
    "    \n",
    "for foo in quote:\n",
    "    string = string + foo\n",
    "    \n",
    "print (quote[0])[:(quote[0]).index(' (')]"
   ]
  },
  {
   "cell_type": "code",
   "execution_count": 19,
   "metadata": {
    "collapsed": false
   },
   "outputs": [
    {
     "name": "stdout",
     "output_type": "stream",
     "text": [
      "0700.HK 171.20   7.40(4.52%)Up\n",
      "0005.HK 50.85   0.00(0.00%)\n",
      "1299.HK 44.85   0.35(0.79%)Up\n",
      "0941.HK 87.15   0.20(0.23%)Up\n",
      "0939.HK 4.94   0.08(1.65%)Up\n",
      "1398.HK 4.08   0.06(1.49%)Up\n",
      "3988.HK 3.14   0.03(0.96%)Up\n",
      "0001.HK 90.35   0.75(0.84%)Up\n",
      "0388.HK 182.30   3.90(2.19%)Up\n",
      "2318.HK 33.65   0.20(0.60%)Up\n"
     ]
    }
   ],
   "source": [
    "from lxml import html,cssselect\n",
    "import requests\n",
    "import sys\n",
    "\n",
    "stocks = [\"0700.HK\",\"0005.HK\",\"1299.HK\",\"0941.HK\",\"0939.HK\",\"1398.HK\",\"3988.HK\",\"0001.HK\",\"0388.HK\",\"2318.HK\"]\n",
    "\n",
    "def get_quote(name):\n",
    "    \n",
    "    page = requests.get('http://finance.yahoo.com/q?s='+ name )\n",
    "    tree = html.fromstring(page.content)\n",
    "\n",
    "    path = '//*[@id=\"yfi_rt_quote_summary\"]/div[2]/div/span/span/text()'\n",
    "\n",
    "    quote = tree.xpath(path)\n",
    "    \n",
    "    price_sign = tree.cssselect(\"span span img\")\n",
    "    \n",
    "    \n",
    "    string = \"\"\n",
    "    \n",
    "    \n",
    "    for foo in quote:\n",
    "        string = string + foo\n",
    "    try:\n",
    "        print name + \" \" + string + price_sign[0].attrib['alt']\n",
    "    except:\n",
    "        print name + \" \" + string\n",
    "    \n",
    "    \n",
    "for name in stocks:\n",
    "    get_quote(name)"
   ]
  },
  {
   "cell_type": "code",
   "execution_count": 42,
   "metadata": {
    "collapsed": false
   },
   "outputs": [
    {
     "name": "stdout",
     "output_type": "stream",
     "text": [
      "\n"
     ]
    }
   ],
   "source": [
    "page = requests.get('http://finance.yahoo.com/q?s=1299.hk' )\n",
    "tree = html.fromstring(page.content)\n",
    "\n",
    "path = '//*[@id=\"table1\"]/tbody/tr[1]/td//text()'\n",
    "\n",
    "quote = tree.xpath(path)\n",
    "\n",
    "price_sign = tree.cssselect(\"span span img\")\n",
    "\n",
    "string = \"\"\n",
    "\n",
    "for foo in quote:\n",
    "    string = string + foo.strip()\n",
    "    print \"hi\"\n",
    "\n",
    "print (string.strip())"
   ]
  },
  {
   "cell_type": "code",
   "execution_count": null,
   "metadata": {
    "collapsed": true
   },
   "outputs": [],
   "source": []
  },
  {
   "cell_type": "code",
   "execution_count": 60,
   "metadata": {
    "collapsed": false
   },
   "outputs": [
    {
     "data": {
      "text/html": [
       "<div>\n",
       "<table border=\"1\" class=\"dataframe\">\n",
       "  <thead>\n",
       "    <tr style=\"text-align: right;\">\n",
       "      <th></th>\n",
       "      <th>Ticker name</th>\n",
       "      <th>Price</th>\n",
       "      <th>Change</th>\n",
       "      <th>Change percentage</th>\n",
       "      <th>Sign</th>\n",
       "    </tr>\n",
       "  </thead>\n",
       "  <tbody>\n",
       "  </tbody>\n",
       "</table>\n",
       "</div>"
      ],
      "text/plain": [
       "Empty DataFrame\n",
       "Columns: [Ticker name, Price, Change, Change percentage, Sign]\n",
       "Index: []"
      ]
     },
     "execution_count": 60,
     "metadata": {},
     "output_type": "execute_result"
    }
   ],
   "source": [
    "# HSI members top 10 by percentage\n",
    "from lxml import html,cssselect\n",
    "import requests\n",
    "import sys\n",
    "import pandas as pd\n",
    "stocks = [\"0700.HK\",\"0005.HK\",\"1299.HK\",\"0941.HK\",\"0939.HK\",\"1398.HK\",\"3988.HK\",\"0001.HK\",\"0388.HK\",\"2318.HK\"]\n",
    "def get_quote(name):   \n",
    "    page = requests.get('http://finance.yahoo.com/q?s='+ name )\n",
    "    tree = html.fromstring(page.content)\n",
    "\n",
    "    path = '//*[@id=\"yfi_rt_quote_summary\"]/div[2]/div/span/span/text()'\n",
    "    path2 = '//*[@id=\"yfi_rt_quote_summary\"]/div[1]/div/h2/text()'\n",
    "\n",
    "    quote = tree.xpath(path)\n",
    "    quote2 = tree.xpath(path2)\n",
    "    \n",
    "    price_sign = tree.cssselect(\"span span img\")\n",
    "    \n",
    "    df = pd.DataFrame(columns=['Ticker name','Price','Change','Change percentage','Sign'])\n",
    "    \n",
    "    df['Price'] = [quote[0].strip()]\n",
    "\n",
    "    df['Change'] = [quote[1].strip()]\n",
    "    df['Change percentage'] = [quote[2].strip()]\n",
    "    try:\n",
    "        df['Sign'] = [price_sign[0].attrib['alt']]\n",
    "    except:\n",
    "        df['Sign'] = ['NaN']\n",
    "    df['Ticker name'] = [name]\n",
    "    return df\n",
    "\n",
    "df2 = pd.DataFrame(columns=['Ticker name','Price','Change','Change percentage','Sign'])\n",
    "for name in stocks:\n",
    "    df3 = get_quote(name)\n",
    "    df2.append(df3)\n",
    "    \n",
    "df2"
   ]
  },
  {
   "cell_type": "code",
   "execution_count": null,
   "metadata": {
    "collapsed": true
   },
   "outputs": [],
   "source": []
  }
 ],
 "metadata": {
  "kernelspec": {
   "display_name": "Python 2",
   "language": "python",
   "name": "python2"
  },
  "language_info": {
   "codemirror_mode": {
    "name": "ipython",
    "version": 2
   },
   "file_extension": ".py",
   "mimetype": "text/x-python",
   "name": "python",
   "nbconvert_exporter": "python",
   "pygments_lexer": "ipython2",
   "version": "2.7.11"
  }
 },
 "nbformat": 4,
 "nbformat_minor": 0
}
