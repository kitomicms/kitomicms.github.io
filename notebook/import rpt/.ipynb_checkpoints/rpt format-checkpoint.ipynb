{
 "cells": [
  {
   "cell_type": "code",
   "execution_count": 11,
   "metadata": {
    "collapsed": false
   },
   "outputs": [],
   "source": [
    "import rpt2csv\n",
    "\n",
    "\n",
    "with open(\"20161020_1_dtop_f_hkcc_fut_dtl_hsi.rpt\",'rb') as inputFile:\n",
    "    with open(\"kkk.csv\",'wb') as outputFile:\n",
    "        rpt2csv.convert(inputFile,outputFile)"
   ]
  },
  {
   "cell_type": "code",
   "execution_count": 6,
   "metadata": {
    "collapsed": true
   },
   "outputs": [],
   "source": [
    "import pandas as pd"
   ]
  },
  {
   "cell_type": "code",
   "execution_count": 13,
   "metadata": {
    "collapsed": false
   },
   "outputs": [
    {
     "name": "stderr",
     "output_type": "stream",
     "text": [
      "Skipping line 12: expected 1 fields, saw 6\n",
      "Skipping line 13: expected 1 fields, saw 6\n",
      "Skipping line 14: expected 1 fields, saw 4\n",
      "Skipping line 15: expected 1 fields, saw 4\n",
      "\n"
     ]
    }
   ],
   "source": [
    "df = pd.read_csv('20161020_1_dtop_f_hkcc_fut_dtl_hsi.csv', error_bad_lines=False)"
   ]
  },
  {
   "cell_type": "code",
   "execution_count": 28,
   "metadata": {
    "collapsed": false
   },
   "outputs": [],
   "source": [
    "#solution: convert to txt file and process the data\n",
    "\n",
    "\n",
    "with open('20161020_1_dtop_f_hkcc_fut_dtl_hsi.txt') as f:\n",
    "    lines = f.readlines()"
   ]
  },
  {
   "cell_type": "code",
   "execution_count": 36,
   "metadata": {
    "collapsed": false
   },
   "outputs": [
    {
     "name": "stdout",
     "output_type": "stream",
     "text": [
      "['SERIES', 'GROSS', 'NET', 'NET', 'CHANGE', 'T/O', 'DEAL', 'SETTLE', 'PRICE', 'PRICE', 'CHANGE']\n",
      "['-------------', '---------------', '---------------', '----------------', '---------------', '---------------', '------------', '-------------']\n",
      "['HSI', 'OCT', '16', '138,211', '44,164', '772', '93,283', '59,154', '23,400', '121']\n",
      "['HSI', 'NOV', '16', '10,227', '8,327', '1,581', '2,860', '316', '23,394', '118']\n",
      "['HSI', 'DEC', '16', '13,175', '9,415', '149', '418', '144', '23,411', '113']\n",
      "['HSI', 'MAR', '17', '1,892', '1,557', '107', '164', '54', '23,411', '122']\n"
     ]
    }
   ],
   "source": [
    "for x in lines[9:15]:\n",
    "    print x.split()"
   ]
  },
  {
   "cell_type": "code",
   "execution_count": null,
   "metadata": {
    "collapsed": true
   },
   "outputs": [],
   "source": []
  }
 ],
 "metadata": {
  "kernelspec": {
   "display_name": "Python 2",
   "language": "python",
   "name": "python2"
  },
  "language_info": {
   "codemirror_mode": {
    "name": "ipython",
    "version": 2
   },
   "file_extension": ".py",
   "mimetype": "text/x-python",
   "name": "python",
   "nbconvert_exporter": "python",
   "pygments_lexer": "ipython2",
   "version": "2.7.11"
  }
 },
 "nbformat": 4,
 "nbformat_minor": 0
}
