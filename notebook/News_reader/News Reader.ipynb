{
 "cells": [
  {
   "cell_type": "code",
   "execution_count": 1,
   "metadata": {
    "collapsed": false
   },
   "outputs": [],
   "source": [
    "#http://www.zerohedge.com/news/2016-06-15/core-producer-prices-surge-most-jan-2015-gasoline-prices-soar\n",
    "#import lxml\n",
    "#import images\n",
    "from newspaper import Article\n"
   ]
  },
  {
   "cell_type": "code",
   "execution_count": 2,
   "metadata": {
    "collapsed": false
   },
   "outputs": [
    {
     "ename": "SyntaxError",
     "evalue": "invalid syntax (<ipython-input-2-fccfc211c0f1>, line 1)",
     "output_type": "error",
     "traceback": [
      "\u001b[0;36m  File \u001b[0;32m\"<ipython-input-2-fccfc211c0f1>\"\u001b[0;36m, line \u001b[0;32m1\u001b[0m\n\u001b[0;31m    sina_paper = newspaper.build(', language='en')\u001b[0m\n\u001b[0m                                               ^\u001b[0m\n\u001b[0;31mSyntaxError\u001b[0m\u001b[0;31m:\u001b[0m invalid syntax\n"
     ]
    }
   ],
   "source": [
    "sina_paper = newspaper.build(', language='en')\n",
    "\n"
   ]
  },
  {
   "cell_type": "code",
   "execution_count": null,
   "metadata": {
    "collapsed": false
   },
   "outputs": [],
   "source": [
    "#//*[@id=\"rso\"]/div[1]/div/div[1]/h3/a\n",
    "\n",
    "for article in sina_paper.articles:\n",
    "    article.download()\n",
    "    article.parse()\n",
    "\n",
    "    print(article.title)"
   ]
  },
  {
   "cell_type": "code",
   "execution_count": 21,
   "metadata": {
    "collapsed": false
   },
   "outputs": [],
   "source": [
    "from newspaper import Article\n",
    "from lxml import html,cssselect\n",
    "import requests\n",
    "import sys\n",
    "import pandas as pd  \n",
    "    \n",
    "page = requests.get('https://www.google.com.hk?gfe_rd=cr&ei=-OhhV-mEIo3M8gf27of4Cg&gws_rd=cr,ssl#q=shipping+lines&safe=off&tbm=nws')\n",
    "tree = html.fromstring(page.content)\n",
    "\n",
    "path = '//div[@id=\"rso\"]'\n",
    "quote = tree.xpath(path)\n",
    "#print len(quote)\n",
    "for foo in quote:\n",
    "        print(foo)\n",
    "    "
   ]
  },
  {
   "cell_type": "code",
   "execution_count": 2,
   "metadata": {
    "collapsed": false
   },
   "outputs": [
    {
     "data": {
      "text/plain": [
       "u'{\\n    \"meta\": {\\n        \"url\": \"https://news.google.com/news?q=Hanjin%20shipping\", \\n        \"timestamp\": \"2016-06-29 20:40:25.959554\"\\n    }, \\n    \"stories\": [\\n        {\\n            \"category\": \"Hanjin shipping\", \\n            \"source\": \"Korea Times\", \\n            \"content_snippet\": \"A former head of Hanjin Shipping was summoned by prosecutors for the second time Thursday over suspicions she illegally sold company stocks after obtaining insider information to avoid losses, legal sources said.\", \\n            \"link\": \"http://www.koreatimes.co.kr/www/news/biz/2016/06/127_208158.html\", \\n            \"title\": \"Ex-chairwoman of Hanjin Shipping summoned over illegal stock trading\"\\n        }, \\n        {\\n            \"category\": \"Hanjin shipping\", \\n            \"source\": \"Hellenic Shipping News Worldwide\", \\n            \"content_snippet\": \"Ailing Hanjin Shipping has decided to return a total of 38 chartered ships to owners by 2017 as a part of its cost-cutting efforts.\", \\n            \"link\": \"http://www.hellenicshippingnews.com/hanjin-shipping-to-return-38-ships-by-2017/\", \\n            \"title\": \"Hanjin Shipping to return 38 ships by 2017\"\\n        }, \\n        {\\n            \"category\": \"Hanjin shipping\", \\n            \"source\": \"Splash 247\", \\n            \"content_snippet\": \"The Korea Development Bank (KDB) is in discussions with Hanjin Group to eek out a financial plan to give Hanjin Shipping enough cash to keep operating through to next year.\", \\n            \"link\": \"http://splash247.com/kdb-hatches-plan-to-keep-hanjin-shipping-solvent/\", \\n            \"title\": \"KDB hatches plan to keep Hanjin Shipping solvent\"\\n        }, \\n        {\\n            \"category\": \"Hanjin shipping\", \\n            \"source\": \"Hellenic Shipping News Worldwide\", \\n            \"content_snippet\": \"On news that ailing Hyundai Merchant Marine is likely to join the prestigious vessel-sharing 2M Alliance, all the attention is now focused on its bigger local rival Hanjin Shipping, to see whether the shipper can normalize its business to stave off ...\", \\n            \"link\": \"http://www.hellenicshippingnews.com/gloomy-outlook-for-hanjin-shipping/\", \\n            \"title\": \"Gloomy outlook for Hanjin Shipping\"\\n        }, \\n        {\\n            \"category\": \"Hanjin shipping\", \\n            \"source\": \"Bloomberg\", \\n            \"content_snippet\": \"The Hong Kong-based ship lessor could instead consider ordering new, fuel-efficient vessels from a South Korean shipyard and leasing them to Hanjin Shipping, helping improve the liner\\'s competitiveness, said Gerry Wang, Seaspan\\'s chief executive officer.\", \\n            \"link\": \"http://www.bloomberg.com/news/articles/2016-06-17/hanjin-shipping-faces-hurdle-as-seaspan-opposes-fee-cut-proposal\", \\n            \"title\": \"Hanjin Shipping Suffers Setback as Seaspan Opposes Fee Cut\"\\n        }, \\n        {\\n            \"category\": \"Hanjin shipping\", \\n            \"source\": \"Hellenic Shipping News Worldwide\", \\n            \"content_snippet\": \"The move came after the government and creditors, led by the state-run Korea Development Bank, pushed Cho Yang-ho, the chairman of Hanjin Group, to pour more cash into the ailing shipping arm of the company. The creditors asked Cho to secure an\\xa0...\", \\n            \"link\": \"http://www.hellenicshippingnews.com/hanjin-shipping-sells-w60b-of-operating-rights-to-secure-liquidity/\", \\n            \"title\": \"Hanjin Shipping sells W60b of operating rights to secure liquidity\"\\n        }, \\n        {\\n            \"category\": \"Hanjin shipping\", \\n            \"source\": \"Hellenic Shipping News Worldwide\", \\n            \"content_snippet\": \"Hanjin Shipping Co., the nation\\'s largest container operator, took another hit as Gerry Wang, chairman of Seaspan Corp.\", \\n            \"link\": \"http://www.hellenicshippingnews.com/seaspan-rejects-hanjin-shippings-proposed-charter-rate-reduction/\", \\n            \"title\": \"Seaspan Rejects Hanjin Shipping\\'s Proposed Charter Rate Reduction\"\\n        }, \\n        {\\n            \"category\": \"Hanjin shipping\", \\n            \"source\": \"Hellenic Shipping News Worldwide\", \\n            \"content_snippet\": \"With Hanjin Shipping being reluctant to agree to Hyundai Merchant Marine\\'s joining the THE Alliance these days, the South Korean financial authorities and creditors are looking to give a warning to Hanjin Shipping. At present, Hyundai Merchant Marine ...\", \\n            \"link\": \"http://www.hellenicshippingnews.com/hanjin-shipping-received-warning-from-financial-authorities-creditors/\", \\n            \"title\": \"Hanjin Shipping Received Warning from Financial Authorities, Creditors\"\\n        }, \\n        {\\n            \"category\": \"Hanjin shipping\", \\n            \"source\": \"pulse\", \\n            \"content_snippet\": \"A senior official from Hanjin Shipping who asked to be unnamed said that three members of THE Alliance - Hapag-Lloyd AG, NYK, and MOL - that were known to be in favor of Hyundai Merchant Marine joining as a new member have turned back.\", \\n            \"link\": \"http://pulsenews.co.kr/view.php?year=2016&no=447413\", \\n            \"title\": \"Hyundai Merchant Marine earns another month to meet creditors\\' obligations\"\\n        }, \\n        {\\n            \"category\": \"Hanjin shipping\", \\n            \"source\": \"Port2Port \\u05e1\\u05e4\\u05e0\\u05d5\\u05ea \\u05d5\\u05ea\\u05e2\\u05d5\\u05e4\\u05d4\", \\n            \"content_snippet\": \"\\u05d7\\u05d1\\u05e8\\u05ea Hanjin Shipping \\u05de\\u05e6\\u05de\\u05e6\\u05de\\u05ea \\u05e0\\u05e4\\u05d7\\u05d9\\u05dd. \\u05d7\\u05d1\\u05e8\\u05ea \\u05d4\\u05e1\\u05e4\\u05e0\\u05d5\\u05ea \\u05de\\u05e7\\u05d5\\u05e8\\u05d9\\u05d0\\u05d4 \\u05ea\\u05d7\\u05d6\\u05d9\\u05e8 \\u05e2\\u05d3 \\u05e1\\u05d5\\u05e3 \\u05e9\\u05e0\\u05ea 2017 \\u05db-38 \\u05d0\\u05e0\\u05d9\\u05d5\\u05ea \\u05e6\\'\\u05e8\\u05d8\\u05e8 \\u05dc\\u05d1\\u05e2\\u05dc\\u05d9\\u05d4\\u05df \\u05e2\\u05dd \\u05ea\\u05d5\\u05dd \\u05d7\\u05d5\\u05d6\\u05d4 \\u05d4\\u05d4\\u05d7\\u05db\\u05e8\\u05d4. \\u05d6\\u05d0\\u05ea \\u05d1\\u05de\\u05d8\\u05e8\\u05d4 \\u05dc\\u05e6\\u05de\\u05e6\\u05dd \\u05d0\\u05ea \\u05e0\\u05e4\\u05d7 \\u05d4\\u05e7\\u05d9\\u05d1\\u05d5\\u05dc\\u05ea \\u05e9\\u05dc \\u05d4\\u05d7\\u05d1\\u05e8\\u05d4. 28.06.16 / 10:46. \\u05d7\\u05d1\\u05e8\\u05ea Hanjin Shipping \\u05de\\u05e6\\u05de\\u05e6\\u05de\\u05ea \\u05e0\\u05e4\\u05d7\\u05d9\\u05dd. 28.06.16. \\u05d7\\u05d1\\u05e8\\u05ea Hanjin Shipping\\xa0...\", \\n            \"link\": \"http://www.port2port.co.il/article/%D7%AA%D7%A2%D7%A9%D7%99%D7%94-%D7%95%D7%A1%D7%97%D7%A8/%D7%AA%D7%A2%D7%A9%D7%99%D7%99%D7%94/%D7%97%D7%91%D7%A8%D7%AA-Hanjin-Shipping-%D7%9E%D7%A6%D7%9E%D7%A6%D7%9E%D7%AA-%D7%A0%D7%A4%D7%97%D7%99%D7%9D/\", \\n            \"title\": \"\\u05d7\\u05d1\\u05e8\\u05ea Hanjin Shipping \\u05de\\u05e6\\u05de\\u05e6\\u05de\\u05ea \\u05e0\\u05e4\\u05d7\\u05d9\\u05dd\"\\n        }, \\n        {\\n            \"category\": \"Hanjin shipping\", \\n            \"source\": \"GCaptain\", \\n            \"content_snippet\": \"The company and bigger rival, Hanjin Shipping Co., are among unprofitable liners worldwide that are taking steps including debt restructuring and asset sales to improve their balance sheets as overcapacity and slowing trade lead to a prolonged downturn ...\", \\n            \"link\": \"https://gcaptain.com/hyundai-merchant-marine-surges-amid-talks-to-join-2m-alliance/\", \\n            \"title\": \"Hyundai Merchant Marine Surges On Talks to Join 2M Alliance\"\\n        }, \\n        {\\n            \"category\": \"Hanjin shipping\", \\n            \"source\": \"http://www.lloydslistaustralia.com.au/ (subscription) (blog)\", \\n            \"content_snippet\": \"... may need more. Cichen Shen - Hong Kong. June 27 2016 - 07:00:00. FINANCIALLY troubled Hanjin Shipping is continuing its efforts to shore up liquidity as it seeks to raise about $18m through the disposal of stakes in three affiliated companies in China.\", \\n            \"link\": \"https://www.lloydslistaustralia.com.au/lla/market-sectors/containers-and-container-shipping/Hanjin-Shipping-to-raise-18m-via-stock-disposal-but-may-need-more-528936.html\", \\n            \"title\": \"Hanjin Shipping to raise $18m via stock disposal but may need more\"\\n        }, \\n        {\\n            \"category\": \"Hanjin shipping\", \\n            \"source\": \"Hellenic Shipping News Worldwide\", \\n            \"content_snippet\": \"Choi and her two daughters allegedly avoided about 1 billion won ($849,000) in losses by selling their stocks of the financially-troubled Hanjin Shipping in April after obtaining information that the company will go through a creditor-led debt ...\", \\n            \"link\": \"http://www.hellenicshippingnews.com/court-rejects-arrest-warrant-request-for-ex-hanjin-shipping-chief/\", \\n            \"title\": \"Court rejects arrest warrant request for ex-Hanjin Shipping chief\"\\n        }, \\n        {\\n            \"category\": \"Hanjin shipping\", \\n            \"source\": \"The Korea Herald\", \\n            \"content_snippet\": \"[DISCLOSURE] Hanjin Shipping (117930) has decided to sell share of its Chinese affiliate Shandong Hanjin Logistics worth 9.5 billion won (US$8.3 million) to secure liquidity, it announced on June 24.\", \\n            \"link\": \"http://www.koreaherald.com/view.php?ud=20160624000073\", \\n            \"title\": \"Hanjin Shipping liquidates Chinese affiliate shares worth US$18.2m\"\\n        }, \\n        {\\n            \"category\": \"Hanjin shipping\", \\n            \"source\": \"pulse\", \\n            \"content_snippet\": \"Hanjin Shipping Co., South Korea\\'s largest container carrier, said it has entered talk with foreign shipowners with an aim to bring down charter fees by 30 percent.\", \\n            \"link\": \"http://pulsenews.co.kr/view.php?sc=30800021&year=2016&no=435599\", \\n            \"title\": \"Korea\\'s Hanjin Shipping bargaining for 30% cut in chartering fees\"\\n        }, \\n        {\\n            \"category\": \"Hanjin shipping\", \\n            \"source\": \"Hellenic Shipping News Worldwide\", \\n            \"content_snippet\": \"Hanjin Group chairman Cho Yang-ho sat down with Gerry Wang, the owner of the world\\'s largest container firm Seaspan Corp., to persuade him to cut chartering prices.\", \\n            \"link\": \"http://www.hellenicshippingnews.com/hanjin-chairman-asks-seaspans-wang-for-price-cut/\", \\n            \"title\": \"Hanjin chairman asks Seaspan\\'s Wang for price cut\"\\n        }, \\n        {\\n            \"category\": \"Hanjin shipping\", \\n            \"source\": \"Hellenic Shipping News Worldwide\", \\n            \"content_snippet\": \"A total of 10 units were deployed on its All Water Hanjin line launched by the Korean firm. In addition, Hanjin Shipping started to run two 9,000 TEU vessels on the trade lane, jointly operated by its global alliance CKYHE members.\", \\n            \"link\": \"http://www.hellenicshippingnews.com/korean-shippers-dispatch-bigger-vessels-on-panama-canal-route/\", \\n            \"title\": \"Korean shippers dispatch bigger vessels on Panama Canal route\"\\n        }, \\n        {\\n            \"category\": \"Hanjin shipping\", \\n            \"source\": \"Wall Street Journal\", \\n            \"content_snippet\": \"Hanjin Shipping will drop 38 chartered vessels when their agreements expire this year and in 2017 under its restructuring effort.\", \\n            \"link\": \"http://www.wsj.com/articles/todays-top-supply-chain-and-logistics-news-from-wsj-1467196716\", \\n            \"title\": \"Today\\'s Top Supply Chain and Logistics News From WSJ\"\\n        }, \\n        {\\n            \"category\": \"Hanjin shipping\", \\n            \"source\": \"The Korea Herald\", \\n            \"content_snippet\": \"According to the association\\'s analysis, major global players have operations in Busan in order to keep Hanjin and Hyundai monopolizing the market.\", \\n            \"link\": \"http://www.koreaherald.com/view.php?ud=20160620001088\", \\n            \"title\": \"Loss of Hanjin, Hyundai shipping firms will cause US$19 billion damages\"\\n        }, \\n        {\\n            \"category\": \"Hanjin shipping\", \\n            \"source\": \"The Korea Herald\", \\n            \"content_snippet\": \"\\u201cHanjin Shipping without a liquidity injection from controlling shareholder, the Cho family and the Korea Development Bank will have a very challenging road ahead,\\u201d Seaspan CEO Gerry Wang told Splash 24/7 in an interview on June 21.\", \\n            \"link\": \"http://www.koreaherald.com/view.php?ud=20160622001074\", \\n            \"title\": \"Seaspan chairman demands liquidity injection from Hanjin\"\\n        }, \\n        {\\n            \"category\": \"Hanjin shipping\", \\n            \"source\": \"Korea JoongAng Daily\", \\n            \"content_snippet\": \"Troubled Hanjin Shipping managed to extend the expiration date on 190 billion won ($161.8 million) in corporate bonds for another three months at the bondholders\\' meeting held Friday at its headquarters in Yeouido, western Seoul.\", \\n            \"link\": \"http://koreajoongangdaily.joins.com/news/article/Article.aspx?aid=3020164\", \\n            \"title\": \"\\ubcf5\\uc0ac URL \\uc904\\uc774\\uae30 \\ub808\\uc774\\uc5b4 \\ub2eb\\uae30\"\\n        }, \\n        {\\n            \"category\": \"Hanjin shipping\", \\n            \"source\": \"MarineLink\", \\n            \"content_snippet\": \"The container ship-leasing company Seaspan Corp declined Hanjin Shipping Co.\\'s request for a cut in charter rates by about 30 percent, dealing a blow to efforts by South Korea\\'s biggest liner to revamp debt amid a prolonged trade slump, reports ...\", \\n            \"link\": \"http://www.marinelink.com/news/proposal-rejects-hanjins411420.aspx\", \\n            \"title\": \"Seaspan Rejects Hanjin\\'s Proposal on Charter Rate\"\\n        }, \\n        {\\n            \"category\": \"Hanjin shipping\", \\n            \"source\": \"JOC.com\", \\n            \"content_snippet\": \"A third possibility is that the South Korean government, which in addition to propping up HMM and Hanjin Shipping is scrambling to provide relief to the country\\'s shipyards, approached the 2M with an offer of favorable financial terms on shipbuilding ...\", \\n            \"link\": \"http://www.joc.com/maritime-news/container-lines/2m/hmm-2m-talks-trigger-plenty-theories-behind-potential-cooperation_20160627.html\", \\n            \"title\": \"HMM\\'s 2M talks spark plenty of theories behind potential cooperation\"\\n        }, \\n        {\\n            \"category\": \"Hanjin shipping\", \\n            \"source\": \"JOC.com\", \\n            \"content_snippet\": \"The merged entity will join THE Alliance of Hanjin Shipping, Hapag-Lloyd, \\u201cK\\u201d Line, MOL, NYK Line and Yang Ming Line. THE Alliance would benefit from UASC\\'s fleet of mega-ships, which would increase its competitiveness on major east-west trades, where\\xa0...\", \\n            \"link\": \"http://www.joc.com/maritime-news/container-lines/hapag-lloyd/hapag-lloyd-agrees-merger-terms-uasc_20160628.html\", \\n            \"title\": \"Hapag-Lloyd agrees to merger terms with UASC\"\\n        }, \\n        {\\n            \"category\": \"Hanjin shipping\", \\n            \"source\": \"Yonhap News\", \\n            \"content_snippet\": \"SEOUL -- A former head of Hanjin Shipping Co. was summoned by prosecutors for the second time Thursday over suspicions she illegally sold company stocks after obtaining insider information to avoid losses, legal sources said.\", \\n            \"link\": \"http://english.yonhapnews.co.kr/national/2016/06/29/0301000000AEN20160629005400320.html\", \\n            \"title\": \"Yonhap News Summary\"\\n        }\\n    ]\\n}'"
      ]
     },
     "execution_count": 2,
     "metadata": {},
     "output_type": "execute_result"
    }
   ],
   "source": [
    "import json\n",
    "import gnp\n",
    "#import codec\n",
    "a = gnp.get_google_news_query(\"Hanjin shipping\")\n",
    "j = json.dumps(a, indent=4, ensure_ascii=False )\n",
    "j.decode('utf-8')"
   ]
  },
  {
   "cell_type": "code",
   "execution_count": 3,
   "metadata": {
    "collapsed": false
   },
   "outputs": [],
   "source": [
    "b = json.loads(j)"
   ]
  },
  {
   "cell_type": "code",
   "execution_count": 4,
   "metadata": {
    "collapsed": false
   },
   "outputs": [
    {
     "data": {
      "text/plain": [
       "{u'timestamp': u'2016-06-29 20:40:25.959554',\n",
       " u'url': u'https://news.google.com/news?q=Hanjin%20shipping'}"
      ]
     },
     "execution_count": 4,
     "metadata": {},
     "output_type": "execute_result"
    }
   ],
   "source": [
    "b['meta']"
   ]
  },
  {
   "cell_type": "code",
   "execution_count": 11,
   "metadata": {
    "collapsed": false
   },
   "outputs": [
    {
     "name": "stdout",
     "output_type": "stream",
     "text": [
      "Ex-chairwoman of Hanjin Shipping summoned over illegal stock trading\n",
      "\n",
      "\n",
      "Hanjin Shipping to return 38 ships by 2017\n",
      "\n",
      "\n",
      "KDB hatches plan to keep Hanjin Shipping solvent\n",
      "\n",
      "\n",
      "Gloomy outlook for Hanjin Shipping\n",
      "\n",
      "\n",
      "Hanjin Shipping Suffers Setback as Seaspan Opposes Fee Cut\n",
      "\n",
      "\n",
      "Hanjin Shipping sells W60b of operating rights to secure liquidity\n",
      "\n",
      "\n",
      "Seaspan Rejects Hanjin Shipping's Proposed Charter Rate Reduction\n",
      "\n",
      "\n",
      "Hanjin Shipping Received Warning from Financial Authorities, Creditors\n",
      "\n",
      "\n",
      "Hyundai Merchant Marine earns another month to meet creditors' obligations\n",
      "\n",
      "\n",
      "חברת Hanjin Shipping מצמצמת נפחים\n",
      "\n",
      "\n",
      "Hyundai Merchant Marine Surges On Talks to Join 2M Alliance\n",
      "\n",
      "\n",
      "Hanjin Shipping to raise $18m via stock disposal but may need more\n",
      "\n",
      "\n",
      "Court rejects arrest warrant request for ex-Hanjin Shipping chief\n",
      "\n",
      "\n",
      "Hanjin Shipping liquidates Chinese affiliate shares worth US$18.2m\n",
      "\n",
      "\n",
      "Korea's Hanjin Shipping bargaining for 30% cut in chartering fees\n",
      "\n",
      "\n",
      "Hanjin chairman asks Seaspan's Wang for price cut\n",
      "\n",
      "\n",
      "Korean shippers dispatch bigger vessels on Panama Canal route\n",
      "\n",
      "\n",
      "Today's Top Supply Chain and Logistics News From WSJ\n",
      "\n",
      "\n",
      "Loss of Hanjin, Hyundai shipping firms will cause US$19 billion damages\n",
      "\n",
      "\n",
      "Seaspan chairman demands liquidity injection from Hanjin\n",
      "\n",
      "\n",
      "복사 URL 줄이기 레이어 닫기\n",
      "\n",
      "\n",
      "Seaspan Rejects Hanjin's Proposal on Charter Rate\n",
      "\n",
      "\n",
      "HMM's 2M talks spark plenty of theories behind potential cooperation\n",
      "\n",
      "\n",
      "Hapag-Lloyd agrees to merger terms with UASC\n",
      "\n",
      "\n",
      "Yonhap News Summary\n",
      "\n",
      "\n"
     ]
    }
   ],
   "source": [
    "for f in b['stories']:\n",
    "    print f['title']\n",
    "    print '\\n'"
   ]
  },
  {
   "cell_type": "code",
   "execution_count": 10,
   "metadata": {
    "collapsed": false
   },
   "outputs": [
    {
     "data": {
      "text/plain": [
       "25"
      ]
     },
     "execution_count": 10,
     "metadata": {},
     "output_type": "execute_result"
    }
   ],
   "source": [
    "len(b['stories'])"
   ]
  },
  {
   "cell_type": "code",
   "execution_count": null,
   "metadata": {
    "collapsed": true
   },
   "outputs": [],
   "source": []
  }
 ],
 "metadata": {
  "kernelspec": {
   "display_name": "Python 2",
   "language": "python",
   "name": "python2"
  },
  "language_info": {
   "codemirror_mode": {
    "name": "ipython",
    "version": 2
   },
   "file_extension": ".py",
   "mimetype": "text/x-python",
   "name": "python",
   "nbconvert_exporter": "python",
   "pygments_lexer": "ipython2",
   "version": "2.7.11"
  }
 },
 "nbformat": 4,
 "nbformat_minor": 0
}
