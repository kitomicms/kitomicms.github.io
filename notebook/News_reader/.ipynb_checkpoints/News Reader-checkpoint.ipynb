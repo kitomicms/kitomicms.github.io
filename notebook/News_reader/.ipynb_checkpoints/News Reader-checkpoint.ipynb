{
 "cells": [
  {
   "cell_type": "code",
   "execution_count": null,
   "metadata": {
    "collapsed": false
   },
   "outputs": [],
   "source": [
    "#http://www.zerohedge.com/news/2016-06-15/core-producer-prices-surge-most-jan-2015-gasoline-prices-soar\n",
    "#import lxml\n",
    "#import images\n",
    "from newspaper import Article\n"
   ]
  },
  {
   "cell_type": "code",
   "execution_count": 13,
   "metadata": {
    "collapsed": false
   },
   "outputs": [
    {
     "name": "stdout",
     "output_type": "stream",
     "text": [
      "https://www.google.com.hk?gfe_rd=cr&ei=-OhhV-mEIo3M8gf27of4Cg&gws_rd=cr,ssl#q=shipping+lines&safe=off&tbm=nws\n",
      "http://www.google.com.hk\n",
      "https://www.google.com.hk\n",
      "https://news.google.com.hk\n",
      "https://www.google.com.hk/chrome/index.html\n"
     ]
    }
   ],
   "source": [
    "sina_paper = newspaper.build(', language='en')\n",
    "\n"
   ]
  },
  {
   "cell_type": "code",
   "execution_count": 14,
   "metadata": {
    "collapsed": false
   },
   "outputs": [
    {
     "name": "stdout",
     "output_type": "stream",
     "text": [
      "廣州「紅通犯」潛逃海外3年 被緝捕歸案\n",
      "埃及當局指在地中海尋獲更多失事埃航客機殘骸\n",
      "有種自家騷回應黑暗 何韻詩：退就乜都冇\n",
      "Google 新聞\n",
      "MSCI寧揀巴基斯坦 A股入摩觸礁 內地股民：戰亂國市場比我們健康\n",
      "男童返印度流落機場 國泰無履行接送遭索賠\n",
      "【埃航空難】墜毀一個月 埃及：客機殘骸尋回\n",
      "新唐人電視台 視頻節目 新聞視頻 中國禁聞 中國禁聞新聞\n",
      "息魔嘆慢板：聯儲局維持利率不變\n",
      "與夫吵架發狂狠母竟從7樓擲2歲兒落街（有片）\n",
      "Google 新聞\n",
      "體育\n",
      "Google 新聞\n",
      "日本稱一艘中國信息收集艦進入日本領海 日經中文網\n",
      "歐國盃 完場前省兩粒 法國贏波率先出線\n",
      "要聞港聞- 楊永強：新垃圾桶礙丟垃圾\n",
      "女醫生戀網上算命師送禮逾2000萬元 對方突失蹤始揭已婚 入稟凍結資產獲批 (21:37)\n",
      "晚宴失約揭已婚女醫生追討男友2200萬\n",
      "Google 新聞\n",
      "¼Ú°ê¬× B²Õ «eÂ¤¡G­^­Û¥S§Ì¤º°R¤õÃÄ¨ý¿@ ¤T·à¤£®e¦A¥¢¡u«Â¡v\n",
      "瑞銀對A股短期情況不特別樂觀 AASTOCKS 財經新聞\n",
      "Google 新聞\n",
      "Google 新聞\n",
      "美駐華使館驚現「詐彈」\n",
      "威爾斯受讓誓馴「獅」\n",
      "周永康妻与長子分别獲刑9年、18年 被罰逾3.5億\n",
      "要聞港聞- 消委會揭食肆湯水多鹽泰菜館冬蔭功湯飲一碗鈉超標\n",
      "陸艦入日本領海 北京：符航行自由原則\n",
      "湯水「重口味」 冬蔭功最鹹\n",
      "Google 新聞\n",
      "Google 新聞\n",
      "“紅通人員”王雁威歸案：曾任廣州花都區政協主席\n",
      "多數主動型基金反對MSCI納入A股 擔心監管問題-財經新聞-新浪新聞中心\n",
      "【新機測試】香港首部6GB RAM 旗艦！OnePlus 3 上手評測\n",
      "Google 新聞\n",
      "與夫吵架發狂 狠母竟從7樓擲2歲兒落街（有片）\n",
      "阿倫爆克勤過檔英皇唔止3000萬\n",
      "¼¯¨Ð9¡E10°Ò¥«¥´ým°«­ô«Ó\n",
      "達賴喇嘛會見美國參議員\n",
      "Google 新聞\n",
      "Google 新聞\n",
      "使用 Google 新聞 RSS 資訊提供\n",
      "夫妻吵架 狠母親手將2歲兒自7樓摔落\n",
      "滬遊客赴華盛頓故居撞車1死\n",
      "要聞港聞- 公帑發花紅許智峯致歉捐同額款項補鑊\n",
      "中國東盟膠着南海會議近破裂\n",
      "OnePlus 3即日開賣 三千銀入手S820+6GB RAM\n",
      "算命師男友失蹤揭已婚 女醫生入稟追2200萬\n",
      "財經\n",
      "歐國盃重心：早場爆英國打吡 威爾斯受讓誓馴「獅」\n",
      "Google 新聞\n",
      "Google 新聞\n",
      "中國情報軍艦12年來首進日領海\n",
      "葡萄牙遭逼和不忿C朗：\n",
      "鍾南山倡港活雞中央屠宰\n",
      "伍詠薇回應練海棠偷食 「多謝狗仔隊追蹤到！」\n",
      "要聞港聞- 經濟不景報名人數勁減本州豪華團暑假劈價六成\n",
      "暑假團費遊台北貴154%\n",
      "Google 新聞\n",
      "新唐人電視台 視頻節目 新聞視頻 新唐人全球新聞 全球新聞\n",
      "防治自殺 臉書增自殘舉報功能\n",
      "信報網站 hkej.com\n",
      "老公被指偷食「巨胸女」 伍詠薇不想聽「對不起」\n",
      "與後母被判刑 認罪不上訴 周永康子周濱 囚18年罰4億\n",
      "習63歲大壽 美駐華使館驚現「詐彈」\n",
      "滬遊客赴華盛頓故居撞車1死\n",
      "一旅遊巴士在美發生車禍 致多名大陸遊客傷亡\n",
      "Google 新聞\n",
      "Google 新聞\n",
      "初選最終戰 希拉蕊拿下華府\n",
      "殃及池魚 當奴縫兩針打石膏\n",
      "民主黨就許智峯派花紅事件致歉\n",
      "公帑發花紅許智峯致歉 捐同額款項補鑊\n",
      "獨家風景：希拉里之路\n",
      "反制蘭蔻 何韻詩「同時地」開音樂會\n",
      "中國邀東協 密商南海爭議破局\n",
      "信拍檔轉會費不止3千萬 阿倫指克勤有意過檔英皇\n",
      "臉書推自殺防治 發現輕生傾向可回報\n",
      "Google 新聞\n",
      "Google 新聞\n",
      "情蒐美日印軍演 中艦侵入日領海\n",
      "帶你睇超型Galaxy S7 蝙蝠俠特別版\n",
      "東方日報C1：伍詠薇代偷食老公鞠躬\n",
      "花旗料明年七成機會納入\n",
      "國際\n",
      "新唐人電視台 視頻節目 新聞視頻 環球直擊 環球直擊新聞\n",
      "Google 新聞\n",
      "左麟右李不再？阿倫：覺得好難再搞\n",
      "周永康之妻賈曉曄獲刑9年\n",
      "娛樂\n",
      "Facebook新增防自殺功能 -- 頭條日報 Headline Daily\n",
      "臉書與自殺防治中心合作，成為自殺守門員\n",
      "兩岸\n",
      "Facebook新增防自殺功能\n",
      "香港\n",
      "要聞港聞- MSCI寧揀巴基斯坦A股入摩觸礁內地股民：戰亂國市場比我們健康\n",
      "摩佬哥帥9‧10決戰\n",
      "【C1頭條】練海棠被爆偷食34D長髮女伍詠薇責夫﹕玩完要老婆執手尾\n",
      "涉賄潛逃加國花都政協主席落網\n",
      "算命師男友失蹤揭已婚女醫生入稟追2200萬\n",
      "全金屬魅族手機— 魅藍3s 發表\n",
      "Kendall + Kylie x Topshop火辣泳裝再登場\n"
     ]
    },
    {
     "ename": "KeyboardInterrupt",
     "evalue": "",
     "output_type": "error",
     "traceback": [
      "\u001b[0;31m---------------------------------------------------------------------------\u001b[0m",
      "\u001b[0;31mKeyboardInterrupt\u001b[0m                         Traceback (most recent call last)",
      "\u001b[0;32m<ipython-input-14-7457bff98150>\u001b[0m in \u001b[0;36m<module>\u001b[0;34m()\u001b[0m\n\u001b[1;32m      2\u001b[0m \u001b[0;34m\u001b[0m\u001b[0m\n\u001b[1;32m      3\u001b[0m \u001b[0;32mfor\u001b[0m \u001b[0marticle\u001b[0m \u001b[0;32min\u001b[0m \u001b[0msina_paper\u001b[0m\u001b[0;34m.\u001b[0m\u001b[0marticles\u001b[0m\u001b[0;34m:\u001b[0m\u001b[0;34m\u001b[0m\u001b[0m\n\u001b[0;32m----> 4\u001b[0;31m     \u001b[0marticle\u001b[0m\u001b[0;34m.\u001b[0m\u001b[0mdownload\u001b[0m\u001b[0;34m(\u001b[0m\u001b[0;34m)\u001b[0m\u001b[0;34m\u001b[0m\u001b[0m\n\u001b[0m\u001b[1;32m      5\u001b[0m     \u001b[0marticle\u001b[0m\u001b[0;34m.\u001b[0m\u001b[0mparse\u001b[0m\u001b[0;34m(\u001b[0m\u001b[0;34m)\u001b[0m\u001b[0;34m\u001b[0m\u001b[0m\n\u001b[1;32m      6\u001b[0m \u001b[0;34m\u001b[0m\u001b[0m\n",
      "\u001b[0;32m/Users/kit/anaconda2/lib/python2.7/site-packages/newspaper/article.pyc\u001b[0m in \u001b[0;36mdownload\u001b[0;34m(self, html)\u001b[0m\n\u001b[1;32m    148\u001b[0m         \"\"\"\n\u001b[1;32m    149\u001b[0m         \u001b[0;32mif\u001b[0m \u001b[0mhtml\u001b[0m \u001b[0;32mis\u001b[0m \u001b[0mNone\u001b[0m\u001b[0;34m:\u001b[0m\u001b[0;34m\u001b[0m\u001b[0m\n\u001b[0;32m--> 150\u001b[0;31m             \u001b[0mhtml\u001b[0m \u001b[0;34m=\u001b[0m \u001b[0mnetwork\u001b[0m\u001b[0;34m.\u001b[0m\u001b[0mget_html\u001b[0m\u001b[0;34m(\u001b[0m\u001b[0mself\u001b[0m\u001b[0;34m.\u001b[0m\u001b[0murl\u001b[0m\u001b[0;34m,\u001b[0m \u001b[0mself\u001b[0m\u001b[0;34m.\u001b[0m\u001b[0mconfig\u001b[0m\u001b[0;34m)\u001b[0m\u001b[0;34m\u001b[0m\u001b[0m\n\u001b[0m\u001b[1;32m    151\u001b[0m         \u001b[0mself\u001b[0m\u001b[0;34m.\u001b[0m\u001b[0mset_html\u001b[0m\u001b[0;34m(\u001b[0m\u001b[0mhtml\u001b[0m\u001b[0;34m)\u001b[0m\u001b[0;34m\u001b[0m\u001b[0m\n\u001b[1;32m    152\u001b[0m \u001b[0;34m\u001b[0m\u001b[0m\n",
      "\u001b[0;32m/Users/kit/anaconda2/lib/python2.7/site-packages/newspaper/network.pyc\u001b[0m in \u001b[0;36mget_html\u001b[0;34m(url, config, response)\u001b[0m\n\u001b[1;32m     52\u001b[0m         \u001b[0mhtml\u001b[0m \u001b[0;34m=\u001b[0m \u001b[0mNone\u001b[0m\u001b[0;34m\u001b[0m\u001b[0m\n\u001b[1;32m     53\u001b[0m         response = requests.get(url=url,\n\u001b[0;32m---> 54\u001b[0;31m                                 **get_request_kwargs(timeout, useragent))\n\u001b[0m\u001b[1;32m     55\u001b[0m         \u001b[0;32mif\u001b[0m \u001b[0mresponse\u001b[0m\u001b[0;34m.\u001b[0m\u001b[0mencoding\u001b[0m \u001b[0;34m!=\u001b[0m \u001b[0mFAIL_ENCODING\u001b[0m\u001b[0;34m:\u001b[0m\u001b[0;34m\u001b[0m\u001b[0m\n\u001b[1;32m     56\u001b[0m             \u001b[0mhtml\u001b[0m \u001b[0;34m=\u001b[0m \u001b[0mresponse\u001b[0m\u001b[0;34m.\u001b[0m\u001b[0mtext\u001b[0m\u001b[0;34m\u001b[0m\u001b[0m\n",
      "\u001b[0;32m/Users/kit/anaconda2/lib/python2.7/site-packages/requests/api.py\u001b[0m in \u001b[0;36mget\u001b[0;34m(url, params, **kwargs)\u001b[0m\n\u001b[1;32m     69\u001b[0m \u001b[0;34m\u001b[0m\u001b[0m\n\u001b[1;32m     70\u001b[0m     \u001b[0mkwargs\u001b[0m\u001b[0;34m.\u001b[0m\u001b[0msetdefault\u001b[0m\u001b[0;34m(\u001b[0m\u001b[0;34m'allow_redirects'\u001b[0m\u001b[0;34m,\u001b[0m \u001b[0mTrue\u001b[0m\u001b[0;34m)\u001b[0m\u001b[0;34m\u001b[0m\u001b[0m\n\u001b[0;32m---> 71\u001b[0;31m     \u001b[0;32mreturn\u001b[0m \u001b[0mrequest\u001b[0m\u001b[0;34m(\u001b[0m\u001b[0;34m'get'\u001b[0m\u001b[0;34m,\u001b[0m \u001b[0murl\u001b[0m\u001b[0;34m,\u001b[0m \u001b[0mparams\u001b[0m\u001b[0;34m=\u001b[0m\u001b[0mparams\u001b[0m\u001b[0;34m,\u001b[0m \u001b[0;34m**\u001b[0m\u001b[0mkwargs\u001b[0m\u001b[0;34m)\u001b[0m\u001b[0;34m\u001b[0m\u001b[0m\n\u001b[0m\u001b[1;32m     72\u001b[0m \u001b[0;34m\u001b[0m\u001b[0m\n\u001b[1;32m     73\u001b[0m \u001b[0;34m\u001b[0m\u001b[0m\n",
      "\u001b[0;32m/Users/kit/anaconda2/lib/python2.7/site-packages/requests/api.py\u001b[0m in \u001b[0;36mrequest\u001b[0;34m(method, url, **kwargs)\u001b[0m\n\u001b[1;32m     55\u001b[0m     \u001b[0;31m# cases, and look like a memory leak in others.\u001b[0m\u001b[0;34m\u001b[0m\u001b[0;34m\u001b[0m\u001b[0m\n\u001b[1;32m     56\u001b[0m     \u001b[0;32mwith\u001b[0m \u001b[0msessions\u001b[0m\u001b[0;34m.\u001b[0m\u001b[0mSession\u001b[0m\u001b[0;34m(\u001b[0m\u001b[0;34m)\u001b[0m \u001b[0;32mas\u001b[0m \u001b[0msession\u001b[0m\u001b[0;34m:\u001b[0m\u001b[0;34m\u001b[0m\u001b[0m\n\u001b[0;32m---> 57\u001b[0;31m         \u001b[0;32mreturn\u001b[0m \u001b[0msession\u001b[0m\u001b[0;34m.\u001b[0m\u001b[0mrequest\u001b[0m\u001b[0;34m(\u001b[0m\u001b[0mmethod\u001b[0m\u001b[0;34m=\u001b[0m\u001b[0mmethod\u001b[0m\u001b[0;34m,\u001b[0m \u001b[0murl\u001b[0m\u001b[0;34m=\u001b[0m\u001b[0murl\u001b[0m\u001b[0;34m,\u001b[0m \u001b[0;34m**\u001b[0m\u001b[0mkwargs\u001b[0m\u001b[0;34m)\u001b[0m\u001b[0;34m\u001b[0m\u001b[0m\n\u001b[0m\u001b[1;32m     58\u001b[0m \u001b[0;34m\u001b[0m\u001b[0m\n\u001b[1;32m     59\u001b[0m \u001b[0;34m\u001b[0m\u001b[0m\n",
      "\u001b[0;32m/Users/kit/anaconda2/lib/python2.7/site-packages/requests/sessions.py\u001b[0m in \u001b[0;36mrequest\u001b[0;34m(self, method, url, params, data, headers, cookies, files, auth, timeout, allow_redirects, proxies, hooks, stream, verify, cert, json)\u001b[0m\n\u001b[1;32m    464\u001b[0m \u001b[0;34m\u001b[0m\u001b[0m\n\u001b[1;32m    465\u001b[0m         settings = self.merge_environment_settings(\n\u001b[0;32m--> 466\u001b[0;31m             \u001b[0mprep\u001b[0m\u001b[0;34m.\u001b[0m\u001b[0murl\u001b[0m\u001b[0;34m,\u001b[0m \u001b[0mproxies\u001b[0m\u001b[0;34m,\u001b[0m \u001b[0mstream\u001b[0m\u001b[0;34m,\u001b[0m \u001b[0mverify\u001b[0m\u001b[0;34m,\u001b[0m \u001b[0mcert\u001b[0m\u001b[0;34m\u001b[0m\u001b[0m\n\u001b[0m\u001b[1;32m    467\u001b[0m         )\n\u001b[1;32m    468\u001b[0m \u001b[0;34m\u001b[0m\u001b[0m\n",
      "\u001b[0;32m/Users/kit/anaconda2/lib/python2.7/site-packages/requests/sessions.py\u001b[0m in \u001b[0;36mmerge_environment_settings\u001b[0;34m(self, url, proxies, stream, verify, cert)\u001b[0m\n\u001b[1;32m    624\u001b[0m         \u001b[0;32mif\u001b[0m \u001b[0mself\u001b[0m\u001b[0;34m.\u001b[0m\u001b[0mtrust_env\u001b[0m\u001b[0;34m:\u001b[0m\u001b[0;34m\u001b[0m\u001b[0m\n\u001b[1;32m    625\u001b[0m             \u001b[0;31m# Set environment's proxies.\u001b[0m\u001b[0;34m\u001b[0m\u001b[0;34m\u001b[0m\u001b[0m\n\u001b[0;32m--> 626\u001b[0;31m             \u001b[0menv_proxies\u001b[0m \u001b[0;34m=\u001b[0m \u001b[0mget_environ_proxies\u001b[0m\u001b[0;34m(\u001b[0m\u001b[0murl\u001b[0m\u001b[0;34m)\u001b[0m \u001b[0;32mor\u001b[0m \u001b[0;34m{\u001b[0m\u001b[0;34m}\u001b[0m\u001b[0;34m\u001b[0m\u001b[0m\n\u001b[0m\u001b[1;32m    627\u001b[0m             \u001b[0;32mfor\u001b[0m \u001b[0;34m(\u001b[0m\u001b[0mk\u001b[0m\u001b[0;34m,\u001b[0m \u001b[0mv\u001b[0m\u001b[0;34m)\u001b[0m \u001b[0;32min\u001b[0m \u001b[0menv_proxies\u001b[0m\u001b[0;34m.\u001b[0m\u001b[0mitems\u001b[0m\u001b[0;34m(\u001b[0m\u001b[0;34m)\u001b[0m\u001b[0;34m:\u001b[0m\u001b[0;34m\u001b[0m\u001b[0m\n\u001b[1;32m    628\u001b[0m                 \u001b[0mproxies\u001b[0m\u001b[0;34m.\u001b[0m\u001b[0msetdefault\u001b[0m\u001b[0;34m(\u001b[0m\u001b[0mk\u001b[0m\u001b[0;34m,\u001b[0m \u001b[0mv\u001b[0m\u001b[0;34m)\u001b[0m\u001b[0;34m\u001b[0m\u001b[0m\n",
      "\u001b[0;32m/Users/kit/anaconda2/lib/python2.7/site-packages/requests/utils.py\u001b[0m in \u001b[0;36mget_environ_proxies\u001b[0;34m(url)\u001b[0m\n\u001b[1;32m    566\u001b[0m \u001b[0;32mdef\u001b[0m \u001b[0mget_environ_proxies\u001b[0m\u001b[0;34m(\u001b[0m\u001b[0murl\u001b[0m\u001b[0;34m)\u001b[0m\u001b[0;34m:\u001b[0m\u001b[0;34m\u001b[0m\u001b[0m\n\u001b[1;32m    567\u001b[0m     \u001b[0;34m\"\"\"Return a dict of environment proxies.\"\"\"\u001b[0m\u001b[0;34m\u001b[0m\u001b[0m\n\u001b[0;32m--> 568\u001b[0;31m     \u001b[0;32mif\u001b[0m \u001b[0mshould_bypass_proxies\u001b[0m\u001b[0;34m(\u001b[0m\u001b[0murl\u001b[0m\u001b[0;34m)\u001b[0m\u001b[0;34m:\u001b[0m\u001b[0;34m\u001b[0m\u001b[0m\n\u001b[0m\u001b[1;32m    569\u001b[0m         \u001b[0;32mreturn\u001b[0m \u001b[0;34m{\u001b[0m\u001b[0;34m}\u001b[0m\u001b[0;34m\u001b[0m\u001b[0m\n\u001b[1;32m    570\u001b[0m     \u001b[0;32melse\u001b[0m\u001b[0;34m:\u001b[0m\u001b[0;34m\u001b[0m\u001b[0m\n",
      "\u001b[0;32m/Users/kit/anaconda2/lib/python2.7/site-packages/requests/utils.py\u001b[0m in \u001b[0;36mshould_bypass_proxies\u001b[0;34m(url)\u001b[0m\n\u001b[1;32m    554\u001b[0m     \u001b[0;31m# legitimate problems.\u001b[0m\u001b[0;34m\u001b[0m\u001b[0;34m\u001b[0m\u001b[0m\n\u001b[1;32m    555\u001b[0m     \u001b[0;32mtry\u001b[0m\u001b[0;34m:\u001b[0m\u001b[0;34m\u001b[0m\u001b[0m\n\u001b[0;32m--> 556\u001b[0;31m         \u001b[0mbypass\u001b[0m \u001b[0;34m=\u001b[0m \u001b[0mproxy_bypass\u001b[0m\u001b[0;34m(\u001b[0m\u001b[0mnetloc\u001b[0m\u001b[0;34m)\u001b[0m\u001b[0;34m\u001b[0m\u001b[0m\n\u001b[0m\u001b[1;32m    557\u001b[0m     \u001b[0;32mexcept\u001b[0m \u001b[0;34m(\u001b[0m\u001b[0mTypeError\u001b[0m\u001b[0;34m,\u001b[0m \u001b[0msocket\u001b[0m\u001b[0;34m.\u001b[0m\u001b[0mgaierror\u001b[0m\u001b[0;34m)\u001b[0m\u001b[0;34m:\u001b[0m\u001b[0;34m\u001b[0m\u001b[0m\n\u001b[1;32m    558\u001b[0m         \u001b[0mbypass\u001b[0m \u001b[0;34m=\u001b[0m \u001b[0mFalse\u001b[0m\u001b[0;34m\u001b[0m\u001b[0m\n",
      "\u001b[0;32m/Users/kit/anaconda2/lib/python2.7/urllib.pyc\u001b[0m in \u001b[0;36mproxy_bypass\u001b[0;34m(host)\u001b[0m\n\u001b[1;32m   1485\u001b[0m             \u001b[0;32mreturn\u001b[0m \u001b[0mproxy_bypass_environment\u001b[0m\u001b[0;34m(\u001b[0m\u001b[0mhost\u001b[0m\u001b[0;34m)\u001b[0m\u001b[0;34m\u001b[0m\u001b[0m\n\u001b[1;32m   1486\u001b[0m         \u001b[0;32melse\u001b[0m\u001b[0;34m:\u001b[0m\u001b[0;34m\u001b[0m\u001b[0m\n\u001b[0;32m-> 1487\u001b[0;31m             \u001b[0;32mreturn\u001b[0m \u001b[0mproxy_bypass_macosx_sysconf\u001b[0m\u001b[0;34m(\u001b[0m\u001b[0mhost\u001b[0m\u001b[0;34m)\u001b[0m\u001b[0;34m\u001b[0m\u001b[0m\n\u001b[0m\u001b[1;32m   1488\u001b[0m \u001b[0;34m\u001b[0m\u001b[0m\n\u001b[1;32m   1489\u001b[0m     \u001b[0;32mdef\u001b[0m \u001b[0mgetproxies\u001b[0m\u001b[0;34m(\u001b[0m\u001b[0;34m)\u001b[0m\u001b[0;34m:\u001b[0m\u001b[0;34m\u001b[0m\u001b[0m\n",
      "\u001b[0;32m/Users/kit/anaconda2/lib/python2.7/urllib.pyc\u001b[0m in \u001b[0;36mproxy_bypass_macosx_sysconf\u001b[0;34m(host)\u001b[0m\n\u001b[1;32m   1451\u001b[0m                 \u001b[0;32mif\u001b[0m \u001b[0mhostIP\u001b[0m \u001b[0;32mis\u001b[0m \u001b[0mNone\u001b[0m\u001b[0;34m:\u001b[0m\u001b[0;34m\u001b[0m\u001b[0m\n\u001b[1;32m   1452\u001b[0m                     \u001b[0;32mtry\u001b[0m\u001b[0;34m:\u001b[0m\u001b[0;34m\u001b[0m\u001b[0m\n\u001b[0;32m-> 1453\u001b[0;31m                         \u001b[0mhostIP\u001b[0m \u001b[0;34m=\u001b[0m \u001b[0msocket\u001b[0m\u001b[0;34m.\u001b[0m\u001b[0mgethostbyname\u001b[0m\u001b[0;34m(\u001b[0m\u001b[0mhostonly\u001b[0m\u001b[0;34m)\u001b[0m\u001b[0;34m\u001b[0m\u001b[0m\n\u001b[0m\u001b[1;32m   1454\u001b[0m                         \u001b[0mhostIP\u001b[0m \u001b[0;34m=\u001b[0m \u001b[0mip2num\u001b[0m\u001b[0;34m(\u001b[0m\u001b[0mhostIP\u001b[0m\u001b[0;34m)\u001b[0m\u001b[0;34m\u001b[0m\u001b[0m\n\u001b[1;32m   1455\u001b[0m                     \u001b[0;32mexcept\u001b[0m \u001b[0msocket\u001b[0m\u001b[0;34m.\u001b[0m\u001b[0merror\u001b[0m\u001b[0;34m:\u001b[0m\u001b[0;34m\u001b[0m\u001b[0m\n",
      "\u001b[0;31mKeyboardInterrupt\u001b[0m: "
     ]
    }
   ],
   "source": [
    "#//*[@id=\"rso\"]/div[1]/div/div[1]/h3/a\n",
    "\n",
    "for article in sina_paper.articles:\n",
    "    article.download()\n",
    "    article.parse()\n",
    "\n",
    "    print(article.title)"
   ]
  },
  {
   "cell_type": "code",
   "execution_count": 35,
   "metadata": {
    "collapsed": false
   },
   "outputs": [
    {
     "ename": "UnicodeDecodeError",
     "evalue": "'utf8' codec can't decode byte 0xb7 in position 0: invalid start byte",
     "output_type": "error",
     "traceback": [
      "\u001b[0;31m---------------------------------------------------------------------------\u001b[0m",
      "\u001b[0;31mUnicodeDecodeError\u001b[0m                        Traceback (most recent call last)",
      "\u001b[0;32m<ipython-input-35-ae7fb68b923b>\u001b[0m in \u001b[0;36m<module>\u001b[0;34m()\u001b[0m\n\u001b[1;32m      9\u001b[0m \u001b[0;34m\u001b[0m\u001b[0m\n\u001b[1;32m     10\u001b[0m \u001b[0mpath\u001b[0m \u001b[0;34m=\u001b[0m \u001b[0;34m'*//text()'\u001b[0m\u001b[0;34m\u001b[0m\u001b[0m\n\u001b[0;32m---> 11\u001b[0;31m \u001b[0mquote\u001b[0m \u001b[0;34m=\u001b[0m \u001b[0mtree\u001b[0m\u001b[0;34m.\u001b[0m\u001b[0mxpath\u001b[0m\u001b[0;34m(\u001b[0m\u001b[0mpath\u001b[0m\u001b[0;34m)\u001b[0m\u001b[0;34m\u001b[0m\u001b[0m\n\u001b[0m\u001b[1;32m     12\u001b[0m \u001b[0;32mfor\u001b[0m \u001b[0mfoo\u001b[0m \u001b[0;32min\u001b[0m \u001b[0mquote\u001b[0m\u001b[0;34m:\u001b[0m\u001b[0;34m\u001b[0m\u001b[0m\n\u001b[1;32m     13\u001b[0m     \u001b[0;32mprint\u001b[0m \u001b[0mfoo\u001b[0m\u001b[0;34m\u001b[0m\u001b[0m\n",
      "\u001b[0;32msrc/lxml/lxml.etree.pyx\u001b[0m in \u001b[0;36mlxml.etree._Element.xpath (src/lxml/lxml.etree.c:57884)\u001b[0;34m()\u001b[0m\n",
      "\u001b[0;32msrc/lxml/xpath.pxi\u001b[0m in \u001b[0;36mlxml.etree.XPathElementEvaluator.__call__ (src/lxml/lxml.etree.c:166905)\u001b[0;34m()\u001b[0m\n",
      "\u001b[0;32msrc/lxml/xpath.pxi\u001b[0m in \u001b[0;36mlxml.etree._XPathEvaluatorBase._handle_result (src/lxml/lxml.etree.c:165893)\u001b[0;34m()\u001b[0m\n",
      "\u001b[0;32msrc/lxml/extensions.pxi\u001b[0m in \u001b[0;36mlxml.etree._unwrapXPathObject (src/lxml/lxml.etree.c:160088)\u001b[0;34m()\u001b[0m\n",
      "\u001b[0;32msrc/lxml/extensions.pxi\u001b[0m in \u001b[0;36mlxml.etree._createNodeSetResult (src/lxml/lxml.etree.c:160529)\u001b[0;34m()\u001b[0m\n",
      "\u001b[0;32msrc/lxml/extensions.pxi\u001b[0m in \u001b[0;36mlxml.etree._unpackNodeSetEntry (src/lxml/lxml.etree.c:160740)\u001b[0;34m()\u001b[0m\n",
      "\u001b[0;32msrc/lxml/extensions.pxi\u001b[0m in \u001b[0;36mlxml.etree._buildElementStringResult (src/lxml/lxml.etree.c:162214)\u001b[0;34m()\u001b[0m\n",
      "\u001b[0;32msrc/lxml/apihelpers.pxi\u001b[0m in \u001b[0;36mlxml.etree.funicode (src/lxml/lxml.etree.c:29944)\u001b[0;34m()\u001b[0m\n",
      "\u001b[0;31mUnicodeDecodeError\u001b[0m: 'utf8' codec can't decode byte 0xb7 in position 0: invalid start byte"
     ]
    }
   ],
   "source": [
    "from newspaper import Article\n",
    "from lxml import html,cssselect\n",
    "import requests\n",
    "import sys\n",
    "import pandas as pd  \n",
    "    \n",
    "page = requests.get('https://www.google.com.hk?gfe_rd=cr&ei=-OhhV-mEIo3M8gf27of4Cg&gws_rd=cr,ssl#q=shipping+lines&safe=off&tbm=nws' )\n",
    "tree = html.fromstring(page.content)\n",
    "\n",
    "path = '*//text()'\n",
    "quote = tree.xpath(path)\n",
    "for foo in quote:\n",
    "    print foo\n",
    "    "
   ]
  },
  {
   "cell_type": "code",
   "execution_count": null,
   "metadata": {
    "collapsed": true
   },
   "outputs": [],
   "source": []
  }
 ],
 "metadata": {
  "kernelspec": {
   "display_name": "Python 2",
   "language": "python",
   "name": "python2"
  },
  "language_info": {
   "codemirror_mode": {
    "name": "ipython",
    "version": 2
   },
   "file_extension": ".py",
   "mimetype": "text/x-python",
   "name": "python",
   "nbconvert_exporter": "python",
   "pygments_lexer": "ipython2",
   "version": "2.7.11"
  }
 },
 "nbformat": 4,
 "nbformat_minor": 0
}
