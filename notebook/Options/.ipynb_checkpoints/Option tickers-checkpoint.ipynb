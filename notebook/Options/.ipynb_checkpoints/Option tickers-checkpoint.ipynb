{
 "cells": [
  {
   "cell_type": "code",
   "execution_count": 13,
   "metadata": {
    "collapsed": false
   },
   "outputs": [
    {
     "name": "stdout",
     "output_type": "stream",
     "text": [
      "0.025\n"
     ]
    }
   ],
   "source": [
    "#http://www.etnet.com.hk/www/tc/warrants/realtime/quote.php?code=26554\n",
    "    \n",
    "from lxml import html,cssselect\n",
    "import requests\n",
    "import sys\n",
    "\n",
    "\n",
    "\n",
    "def get_quote(name):\n",
    "    \n",
    "    page = requests.get('http://dbpower.com.hk/en/quote/quote-warrant/code/' + name)\n",
    "    tree = html.fromstring(page.content)\n",
    "    lastprice_path = '//*[@id=\"column_left\"]/article/div/div/ul/li[1]/text()'\n",
    "    change_path = '//*[@id=\"column_left\"]/article/div/div/ul/li[2]/span/text()'\n",
    "    \n",
    "    quote = tree.xpath(lastprice_path)\n",
    "    for foo in quote:\n",
    "        #string = string + foo\n",
    "        if foo == \"\":\n",
    "            print \"empty\"\n",
    "        else:\n",
    "            print foo.encode(\"utf-8\")\n",
    "\n",
    "stocks = [\"26444\"]\n",
    "for name in stocks:\n",
    "    get_quote(name)\n",
    "\n",
    "    \n",
    "    \n",
    "# how to get the up or down sign\n"
   ]
  },
  {
   "cell_type": "code",
   "execution_count": 10,
   "metadata": {
    "collapsed": false
   },
   "outputs": [],
   "source": [
    "#http://www.etnet.com.hk/www/tc/warrants/realtime/quote.php?code=26554\n",
    "    \n",
    "from lxml import html,cssselect\n",
    "import requests\n",
    "import sys\n",
    "\n",
    "stocks = [\"26554\"]\n",
    "\n",
    "def get_quote(name):\n",
    "    \n",
    "    page = requests.get('http://warrants.ubs.com/en/warrants/warrants_analyzer_performance/code/' + name)\n",
    "    tree = html.fromstring(page.content)\n",
    "\n",
    "    path = '//*[@id=\"real_time_box\"]/div[1]/table/tbody/tr[1]/td/text()'\n",
    "    #//*[@id=\"real_time_box\"]/div[1]/table/tbody/tr[1]/td\n",
    "    #path = '//*/div[@id=\"content\"]//td[2]/text()'\n",
    "    \n",
    "    #//*[@id=\"WarrantDetailMainBox\"]/table/tbody/tr[1]/td[6]\n",
    "    ##WarrantDetailMainBox > table > tbody > tr:nth-child(1) > td:nth-child(6) > span\n",
    "    #//*[@id=\"content\"]/table[3]/tbody/tr[1]/td[1]\n",
    "\n",
    "    quote = tree.xpath(path)\n",
    "    \n",
    "    price_sign = tree.cssselect(\"td.data\")\n",
    "    \n",
    "    \n",
    "    string = \"\"\n",
    "    \n",
    "    \n",
    "    for foo in quote:\n",
    "        #string = string + foo\n",
    "        if foo == \"\":\n",
    "            print \"empty\"\n",
    "        else:\n",
    "            print \"-\" + foo.encode(\"utf-8\") + \"-\"\n",
    "            \n",
    "            print len(foo)\n",
    "        \n",
    "    #print name + \" \" + string #+ price_sign[0].attrib['alt']\n",
    "    \n",
    "for name in stocks:\n",
    "    get_quote(name)\n",
    "\n",
    "    \n",
    "    \n",
    "# how to get the up or down sign\n"
   ]
  },
  {
   "cell_type": "code",
   "execution_count": null,
   "metadata": {
    "collapsed": true
   },
   "outputs": [],
   "source": []
  }
 ],
 "metadata": {
  "kernelspec": {
   "display_name": "Python 2",
   "language": "python",
   "name": "python2"
  },
  "language_info": {
   "codemirror_mode": {
    "name": "ipython",
    "version": 2
   },
   "file_extension": ".py",
   "mimetype": "text/x-python",
   "name": "python",
   "nbconvert_exporter": "python",
   "pygments_lexer": "ipython2",
   "version": "2.7.11"
  }
 },
 "nbformat": 4,
 "nbformat_minor": 0
}
