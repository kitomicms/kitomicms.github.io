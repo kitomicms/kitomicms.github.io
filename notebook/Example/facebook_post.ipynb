{
 "cells": [
  {
   "cell_type": "code",
   "execution_count": 1,
   "metadata": {
    "collapsed": false
   },
   "outputs": [
    {
     "ename": "KeyError",
     "evalue": "'data'",
     "output_type": "error",
     "traceback": [
      "\u001b[0;31m---------------------------------------------------------------------------\u001b[0m",
      "\u001b[0;31mKeyError\u001b[0m                                  Traceback (most recent call last)",
      "\u001b[0;32m<ipython-input-1-3b3e949aaeb0>\u001b[0m in \u001b[0;36m<module>\u001b[0;34m()\u001b[0m\n\u001b[1;32m      5\u001b[0m \u001b[0mresponse\u001b[0m \u001b[0;34m=\u001b[0m \u001b[0murllib\u001b[0m\u001b[0;34m.\u001b[0m\u001b[0murlopen\u001b[0m\u001b[0;34m(\u001b[0m\u001b[0murl\u001b[0m\u001b[0;34m)\u001b[0m\u001b[0;34m\u001b[0m\u001b[0m\n\u001b[1;32m      6\u001b[0m \u001b[0mdata\u001b[0m \u001b[0;34m=\u001b[0m \u001b[0mjson\u001b[0m\u001b[0;34m.\u001b[0m\u001b[0mloads\u001b[0m\u001b[0;34m(\u001b[0m\u001b[0mresponse\u001b[0m\u001b[0;34m.\u001b[0m\u001b[0mread\u001b[0m\u001b[0;34m(\u001b[0m\u001b[0;34m)\u001b[0m\u001b[0;34m)\u001b[0m\u001b[0;34m\u001b[0m\u001b[0m\n\u001b[0;32m----> 7\u001b[0;31m \u001b[0;32mfor\u001b[0m \u001b[0mfoo\u001b[0m \u001b[0;32min\u001b[0m \u001b[0mdata\u001b[0m\u001b[0;34m[\u001b[0m\u001b[0;34m'data'\u001b[0m\u001b[0;34m]\u001b[0m\u001b[0;34m:\u001b[0m\u001b[0;34m\u001b[0m\u001b[0m\n\u001b[0m\u001b[1;32m      8\u001b[0m     \u001b[0;32mprint\u001b[0m \u001b[0;34m\">>>\"\u001b[0m \u001b[0;34m+\u001b[0m \u001b[0mfoo\u001b[0m\u001b[0;34m[\u001b[0m\u001b[0;34m'message'\u001b[0m\u001b[0;34m]\u001b[0m \u001b[0;34m+\u001b[0m \u001b[0;34m\"\\n\"\u001b[0m \u001b[0;34m+\u001b[0m \u001b[0;34m\"-\"\u001b[0m\u001b[0;34m*\u001b[0m\u001b[0;36m100\u001b[0m\u001b[0;34m\u001b[0m\u001b[0m\n\u001b[1;32m      9\u001b[0m \u001b[0;34m\u001b[0m\u001b[0m\n",
      "\u001b[0;31mKeyError\u001b[0m: 'data'"
     ]
    }
   ],
   "source": [
    "import urllib, json\n",
    "url = \"https://graph.facebook.com/v2.6/wargodriver/posts?access_token=EAAObCvlV6LQBAI34qWoMpCiAGYau99GzZAI3AZCmS2Fkq9Q3Ygp7xP75eh8pG0OBu0LGlSXBVfgPlrPqM82R46g5uTqNCvnoFc3U3UO7F22ZBTVpq6NBKWkqkoXLKO8PaQ6DdWXfpZCF18tfR02H9rqiIxxfKu6GS0ZAO6z9ibgZDZD\"\n",
    "\n",
    "\n",
    "response = urllib.urlopen(url)\n",
    "data = json.loads(response.read())\n",
    "for foo in data['data']:\n",
    "    print \">>>\" + foo['message'] + \"\\n\" + \"-\"*100\n",
    "\n",
    "#\"https://graph.facebook.com/v2.6/usstockcap/posts?access_token=EAAObCvlV6LQBAI34qWoMpCiAGYau99GzZAI3AZCmS2Fkq9Q3Ygp7xP75eh8pG0OBu0LGlSXBVfgPlrPqM82R46g5uTqNCvnoFc3U3UO7F22ZBTVpq6NBKWkqkoXLKO8PaQ6DdWXfpZCF18tfR02H9rqiIxxfKu6GS0ZAO6z9ibgZDZD\""
   ]
  },
  {
   "cell_type": "code",
   "execution_count": 2,
   "metadata": {
    "collapsed": false
   },
   "outputs": [
    {
     "ename": "KeyError",
     "evalue": "'data'",
     "output_type": "error",
     "traceback": [
      "\u001b[0;31m---------------------------------------------------------------------------\u001b[0m",
      "\u001b[0;31mKeyError\u001b[0m                                  Traceback (most recent call last)",
      "\u001b[0;32m<ipython-input-2-b932b0057dbc>\u001b[0m in \u001b[0;36m<module>\u001b[0;34m()\u001b[0m\n\u001b[1;32m      5\u001b[0m \u001b[0mresponse\u001b[0m \u001b[0;34m=\u001b[0m \u001b[0murllib\u001b[0m\u001b[0;34m.\u001b[0m\u001b[0murlopen\u001b[0m\u001b[0;34m(\u001b[0m\u001b[0murl\u001b[0m\u001b[0;34m)\u001b[0m\u001b[0;34m\u001b[0m\u001b[0m\n\u001b[1;32m      6\u001b[0m \u001b[0mdata\u001b[0m \u001b[0;34m=\u001b[0m \u001b[0mjson\u001b[0m\u001b[0;34m.\u001b[0m\u001b[0mloads\u001b[0m\u001b[0;34m(\u001b[0m\u001b[0mresponse\u001b[0m\u001b[0;34m.\u001b[0m\u001b[0mread\u001b[0m\u001b[0;34m(\u001b[0m\u001b[0;34m)\u001b[0m\u001b[0;34m)\u001b[0m\u001b[0;34m\u001b[0m\u001b[0m\n\u001b[0;32m----> 7\u001b[0;31m \u001b[0;32mfor\u001b[0m \u001b[0mfoo\u001b[0m \u001b[0;32min\u001b[0m \u001b[0mdata\u001b[0m\u001b[0;34m[\u001b[0m\u001b[0;34m'data'\u001b[0m\u001b[0;34m]\u001b[0m\u001b[0;34m:\u001b[0m\u001b[0;34m\u001b[0m\u001b[0m\n\u001b[0m\u001b[1;32m      8\u001b[0m     \u001b[0;32mprint\u001b[0m \u001b[0;34m\">>>\"\u001b[0m \u001b[0;34m+\u001b[0m \u001b[0mfoo\u001b[0m\u001b[0;34m[\u001b[0m\u001b[0;34m'message'\u001b[0m\u001b[0;34m]\u001b[0m \u001b[0;34m+\u001b[0m \u001b[0;34m\"\\n\"\u001b[0m \u001b[0;34m+\u001b[0m \u001b[0;34m\"-\"\u001b[0m\u001b[0;34m*\u001b[0m\u001b[0;36m100\u001b[0m\u001b[0;34m\u001b[0m\u001b[0m\n\u001b[1;32m      9\u001b[0m \u001b[0;34m\u001b[0m\u001b[0m\n",
      "\u001b[0;31mKeyError\u001b[0m: 'data'"
     ]
    }
   ],
   "source": [
    "import urllib, json\n",
    "url = \"https://graph.facebook.com/v2.6/usstockcap/posts?access_token=EAAObCvlV6LQBAI34qWoMpCiAGYau99GzZAI3AZCmS2Fkq9Q3Ygp7xP75eh8pG0OBu0LGlSXBVfgPlrPqM82R46g5uTqNCvnoFc3U3UO7F22ZBTVpq6NBKWkqkoXLKO8PaQ6DdWXfpZCF18tfR02H9rqiIxxfKu6GS0ZAO6z9ibgZDZD\"\n",
    "\n",
    "\n",
    "response = urllib.urlopen(url)\n",
    "data = json.loads(response.read())\n",
    "for foo in data['data']:\n",
    "    print \">>>\" + foo['message'] + \"\\n\" + \"-\"*100\n",
    "\n",
    "#\"https://graph.facebook.com/v2.6/usstockcap/posts?access_token=EAAObCvlV6LQBAI34qWoMpCiAGYau99GzZAI3AZCmS2Fkq9Q3Ygp7xP75eh8pG0OBu0LGlSXBVfgPlrPqM82R46g5uTqNCvnoFc3U3UO7F22ZBTVpq6NBKWkqkoXLKO8PaQ6DdWXfpZCF18tfR02H9rqiIxxfKu6GS0ZAO6z9ibgZDZD\""
   ]
  },
  {
   "cell_type": "code",
   "execution_count": 12,
   "metadata": {
    "collapsed": false
   },
   "outputs": [
    {
     "ename": "AttributeError",
     "evalue": "'dict' object has no attribute 'encode'",
     "output_type": "error",
     "traceback": [
      "\u001b[0;31m---------------------------------------------------------------------------\u001b[0m",
      "\u001b[0;31mAttributeError\u001b[0m                            Traceback (most recent call last)",
      "\u001b[0;32m<ipython-input-12-e223b5d71674>\u001b[0m in \u001b[0;36m<module>\u001b[0;34m()\u001b[0m\n\u001b[1;32m      8\u001b[0m \u001b[0mres\u001b[0m \u001b[0;34m=\u001b[0m \u001b[0mrequests\u001b[0m\u001b[0;34m.\u001b[0m\u001b[0mget\u001b[0m\u001b[0;34m(\u001b[0m\u001b[0;34m'https://graph.facebook.com/v2.7/econometric.analysis/posts?access_token=%s'\u001b[0m\u001b[0;34m%\u001b[0m\u001b[0;34m(\u001b[0m\u001b[0mtoken\u001b[0m\u001b[0;34m)\u001b[0m\u001b[0;34m)\u001b[0m\u001b[0;34m\u001b[0m\u001b[0m\n\u001b[1;32m      9\u001b[0m \u001b[0mjsondata\u001b[0m \u001b[0;34m=\u001b[0m \u001b[0mjson\u001b[0m\u001b[0;34m.\u001b[0m\u001b[0mloads\u001b[0m\u001b[0;34m(\u001b[0m\u001b[0mres\u001b[0m\u001b[0;34m.\u001b[0m\u001b[0mtext\u001b[0m\u001b[0;34m)\u001b[0m\u001b[0;34m\u001b[0m\u001b[0m\n\u001b[0;32m---> 10\u001b[0;31m \u001b[0;32mprint\u001b[0m \u001b[0mjsondata\u001b[0m\u001b[0;34m.\u001b[0m\u001b[0mencode\u001b[0m\u001b[0;34m(\u001b[0m\u001b[0;34m'utf8'\u001b[0m\u001b[0;34m)\u001b[0m\u001b[0;34m\u001b[0m\u001b[0m\n\u001b[0m",
      "\u001b[0;31mAttributeError\u001b[0m: 'dict' object has no attribute 'encode'"
     ]
    }
   ],
   "source": [
    "#EAACEdEose0cBAErNiycEKFPVjixBNkkGb6G3dCE3xamEid5fPIYjV37y5wrrLxPtMsfNLGZBWiLpSPyZBDqGUfy7bkZAT7d20GWNcsPFjsjnZCap0pcXRA9ZAa2huoe4O68dJfBahRHZBsYDpTwPwaNtUmH1fxkzO0rBGvpfEZA8AZDZD\n",
    "\n",
    "\n",
    "import requests\n",
    "import json\n",
    "\n",
    "token = \"EAAObCvlV6LQBANXxKBx6ZBRuOo5pkqHmu1dZBAhNdX14ZBPG7cbsavqPSWjKISqB3HXeZARUUr3rM0v8Q5Da6jZCQz0y1zkYKvGS1ZALLFNfg6GaVSMZCuReULGurg4yBvXkLVoRM9mg7XQF7iJCHn77rui5XBCFZC0ZD\"\n",
    "res = requests.get('https://graph.facebook.com/v2.7/econometric.analysis/posts?access_token=%s'%(token))\n",
    "jsondata = json.loads(res.text)\n",
    "print jsondata.encode('utf8')"
   ]
  },
  {
   "cell_type": "code",
   "execution_count": null,
   "metadata": {
    "collapsed": true
   },
   "outputs": [],
   "source": []
  },
  {
   "cell_type": "code",
   "execution_count": null,
   "metadata": {
    "collapsed": true
   },
   "outputs": [],
   "source": []
  }
 ],
 "metadata": {
  "kernelspec": {
   "display_name": "Python 2",
   "language": "python",
   "name": "python2"
  },
  "language_info": {
   "codemirror_mode": {
    "name": "ipython",
    "version": 2
   },
   "file_extension": ".py",
   "mimetype": "text/x-python",
   "name": "python",
   "nbconvert_exporter": "python",
   "pygments_lexer": "ipython2",
   "version": "2.7.11"
  }
 },
 "nbformat": 4,
 "nbformat_minor": 0
}
