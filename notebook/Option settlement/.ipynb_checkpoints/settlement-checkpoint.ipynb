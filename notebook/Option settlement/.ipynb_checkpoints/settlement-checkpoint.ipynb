{
 "cells": [
  {
   "cell_type": "code",
   "execution_count": 1,
   "metadata": {
    "collapsed": true
   },
   "outputs": [],
   "source": [
    "import pandas as pd\n",
    "import itertools"
   ]
  },
  {
   "cell_type": "code",
   "execution_count": 133,
   "metadata": {
    "collapsed": false
   },
   "outputs": [
    {
     "data": {
      "text/plain": [
       "22000   -13540.0\n",
       "22100   -13540.0\n",
       "22200   -13540.0\n",
       "22300   -13540.0\n",
       "22400   -13540.0\n",
       "22500   -13540.0\n",
       "22600   -13540.0\n",
       "22700   -13540.0\n",
       "22800   -13540.0\n",
       "22900   -13540.0\n",
       "23000   -13540.0\n",
       "23100    -8540.0\n",
       "23200    -3540.0\n",
       "23300     1460.0\n",
       "23400     6460.0\n",
       "23500    13460.0\n",
       "23600    20460.0\n",
       "23700    20460.0\n",
       "23800    20460.0\n",
       "23900    20460.0\n",
       "24000    20460.0\n",
       "24100    20460.0\n",
       "dtype: float64"
      ]
     },
     "execution_count": 133,
     "metadata": {},
     "output_type": "execute_result"
    }
   ],
   "source": [
    "table = pd.read_excel('portfolio.xlsx')\n",
    "HSI_high = 24000\n",
    "HSI_low = 23000\n",
    "HSI_target = 23500\n",
    "current_month = 10\n",
    "#set HSI range\n",
    "#range = []\n",
    "tb = table\n",
    "#table2['abc'] = 23300 - table2['EXERCISE PRICE']\n",
    "def result(low,high,interval):\n",
    "    tb = table\n",
    "    #listing =[]\n",
    "    for target in range(low,high,interval):\n",
    "        #Determine Call or put\n",
    "        listing =[]\n",
    "        for callput,ex_price,premium,quantity in zip(tb['CALL/PUT'],tb['EXERCISE PRICE'],tb['PREMIUM'],tb['QUANTITY']):\n",
    "            if (callput == 'Call') & (ex_price <= target) & (premium > 0):\n",
    "                #long call\n",
    "                listing.append((target - ex_price - premium)*quantity*10)\n",
    "            elif (callput == 'Call') & (ex_price <= target) & (premium < 0):\n",
    "                #short call\n",
    "                listing.append((-premium - (target - ex_price))*quantity*10)\n",
    "            elif (callput == 'Put') & (ex_price >= target) & (premium > 0):\n",
    "                #long put\n",
    "                listing.append((ex_price - target - premium)*quantity*10)\n",
    "            elif (callput == 'Put') & (ex_price >= target) & (premium < 0):\n",
    "                #short put\n",
    "                listing.append((-premium - (ex_price - target))*quantity*10)\n",
    "            else:\n",
    "                listing.append(-premium *quantity*10)\n",
    "        tb[target] = listing\n",
    "        \n",
    "result(22000,24200,100)\n",
    "tb.ix[:,5:len(tb.columns)].sum()"
   ]
  },
  {
   "cell_type": "code",
   "execution_count": null,
   "metadata": {
    "collapsed": true
   },
   "outputs": [],
   "source": []
  }
 ],
 "metadata": {
  "kernelspec": {
   "display_name": "Python 2",
   "language": "python",
   "name": "python2"
  },
  "language_info": {
   "codemirror_mode": {
    "name": "ipython",
    "version": 2
   },
   "file_extension": ".py",
   "mimetype": "text/x-python",
   "name": "python",
   "nbconvert_exporter": "python",
   "pygments_lexer": "ipython2",
   "version": "2.7.11"
  }
 },
 "nbformat": 4,
 "nbformat_minor": 0
}
