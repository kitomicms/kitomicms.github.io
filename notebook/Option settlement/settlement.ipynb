{
 "cells": [
  {
   "cell_type": "code",
   "execution_count": 1,
   "metadata": {
    "collapsed": true
   },
   "outputs": [],
   "source": [
    "import pandas as pd\n",
    "import itertools"
   ]
  },
  {
   "cell_type": "code",
   "execution_count": 138,
   "metadata": {
    "collapsed": false
   },
   "outputs": [
    {
     "data": {
      "text/plain": [
       "22000   -10070.0\n",
       "22200   -10070.0\n",
       "22400   -10070.0\n",
       "22600   -10070.0\n",
       "22800   -14070.0\n",
       "23000   -18070.0\n",
       "23200    -8070.0\n",
       "23400     1930.0\n",
       "23600    19930.0\n",
       "23800    19930.0\n",
       "24000    19930.0\n",
       "dtype: float64"
      ]
     },
     "execution_count": 138,
     "metadata": {},
     "output_type": "execute_result"
    }
   ],
   "source": [
    "table = pd.read_excel('portfolio.xlsx')\n",
    "HSI_high = 24000\n",
    "HSI_low = 23000\n",
    "HSI_target = 23500\n",
    "current_month = 10\n",
    "#set HSI range\n",
    "#range = []\n",
    "tb = table\n",
    "#table2['abc'] = 23300 - table2['EXERCISE PRICE']\n",
    "def result(low,high,interval):\n",
    "    tb = table\n",
    "    #listing =[]\n",
    "    for target in range(low,high,interval):\n",
    "        #Determine Call or put\n",
    "        listing =[]\n",
    "        for callput,ex_price,premium,quantity in zip(tb['CALL/PUT'],tb['EXERCISE PRICE'],tb['PREMIUM'],tb['QUANTITY']):\n",
    "            if (callput == 'Call') & (ex_price <= target) & (premium > 0):\n",
    "                #long call\n",
    "                listing.append((target - ex_price - premium)*quantity*10)\n",
    "            elif (callput == 'Call') & (ex_price <= target) & (premium < 0):\n",
    "                #short call\n",
    "                listing.append((-premium - (target - ex_price))*quantity*10)\n",
    "            elif (callput == 'Put') & (ex_price >= target) & (premium > 0):\n",
    "                #long put\n",
    "                listing.append((ex_price - target - premium)*quantity*10)\n",
    "            elif (callput == 'Put') & (ex_price >= target) & (premium < 0):\n",
    "                #short put\n",
    "                listing.append((-premium - (ex_price - target))*quantity*10)\n",
    "            else:\n",
    "                listing.append(-premium *quantity*10)\n",
    "        tb[target] = listing\n",
    "        \n",
    "result(22000,24200,200)\n",
    "tb.ix[:,5:len(tb.columns)].sum()"
   ]
  },
  {
   "cell_type": "code",
   "execution_count": null,
   "metadata": {
    "collapsed": true
   },
   "outputs": [],
   "source": []
  }
 ],
 "metadata": {
  "kernelspec": {
   "display_name": "Python 2",
   "language": "python",
   "name": "python2"
  },
  "language_info": {
   "codemirror_mode": {
    "name": "ipython",
    "version": 2
   },
   "file_extension": ".py",
   "mimetype": "text/x-python",
   "name": "python",
   "nbconvert_exporter": "python",
   "pygments_lexer": "ipython2",
   "version": "2.7.11"
  }
 },
 "nbformat": 4,
 "nbformat_minor": 0
}
