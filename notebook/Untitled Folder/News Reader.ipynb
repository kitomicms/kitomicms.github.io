{
 "cells": [
  {
   "cell_type": "code",
   "execution_count": 1,
   "metadata": {
    "collapsed": false
   },
   "outputs": [],
   "source": [
    "#http://www.zerohedge.com/news/2016-06-15/core-producer-prices-surge-most-jan-2015-gasoline-prices-soar\n",
    "#import lxml\n",
    "#import images\n",
    "from newspaper import Article\n"
   ]
  },
  {
   "cell_type": "code",
   "execution_count": 2,
   "metadata": {
    "collapsed": false
   },
   "outputs": [
    {
     "ename": "SyntaxError",
     "evalue": "invalid syntax (<ipython-input-2-fccfc211c0f1>, line 1)",
     "output_type": "error",
     "traceback": [
      "\u001b[0;36m  File \u001b[0;32m\"<ipython-input-2-fccfc211c0f1>\"\u001b[0;36m, line \u001b[0;32m1\u001b[0m\n\u001b[0;31m    sina_paper = newspaper.build(', language='en')\u001b[0m\n\u001b[0m                                               ^\u001b[0m\n\u001b[0;31mSyntaxError\u001b[0m\u001b[0;31m:\u001b[0m invalid syntax\n"
     ]
    }
   ],
   "source": [
    "sina_paper = newspaper.build(', language='en')\n",
    "\n"
   ]
  },
  {
   "cell_type": "code",
   "execution_count": null,
   "metadata": {
    "collapsed": false
   },
   "outputs": [],
   "source": [
    "#//*[@id=\"rso\"]/div[1]/div/div[1]/h3/a\n",
    "\n",
    "for article in sina_paper.articles:\n",
    "    article.download()\n",
    "    article.parse()\n",
    "\n",
    "    print(article.title)"
   ]
  },
  {
   "cell_type": "code",
   "execution_count": 21,
   "metadata": {
    "collapsed": false
   },
   "outputs": [],
   "source": [
    "from newspaper import Article\n",
    "from lxml import html,cssselect\n",
    "import requests\n",
    "import sys\n",
    "import pandas as pd  \n",
    "    \n",
    "page = requests.get('https://www.google.com.hk?gfe_rd=cr&ei=-OhhV-mEIo3M8gf27of4Cg&gws_rd=cr,ssl#q=shipping+lines&safe=off&tbm=nws')\n",
    "tree = html.fromstring(page.content)\n",
    "\n",
    "path = '//div[@id=\"rso\"]'\n",
    "quote = tree.xpath(path)\n",
    "#print len(quote)\n",
    "for foo in quote:\n",
    "        print(foo)\n",
    "    "
   ]
  },
  {
   "cell_type": "code",
   "execution_count": 56,
   "metadata": {
    "collapsed": false
   },
   "outputs": [
    {
     "data": {
      "text/plain": [
       "u'{\\n    \"meta\": {\\n        \"url\": \"https://news.google.com/news?q=Hanjin%20shipping\", \\n        \"timestamp\": \"2016-06-18 17:35:14.991638\"\\n    }, \\n    \"stories\": [\\n        {\\n            \"category\": \"Hanjin shipping\", \\n            \"source\": \"Bloomberg\", \\n            \"content_snippet\": \"Seaspan Corp., a container ship-leasing company, said it won\\'t accept Hanjin Shipping Co.\\'s request for a cut in charter rates by about 30 percent, dealing a blow to efforts by South Korea\\'s biggest liner to revamp debt amid a prolonged trade slump.\", \\n            \"link\": \"http://www.bloomberg.com/news/articles/2016-06-17/hanjin-shipping-faces-hurdle-as-seaspan-opposes-fee-cut-proposal\", \\n            \"title\": \"Hanjin Shipping Suffers Setback as Seaspan Opposes Fee Cut\"\\n        }, \\n        {\\n            \"category\": \"Hanjin shipping\", \\n            \"source\": \"Bloomberg\", \\n            \"content_snippet\": \"Hanjin Shipping Co. gained the most in a week in Seoul trading as concerns that the unprofitable shipping line wouldn\\'t be able to survive eased after the government indicated a merger with a smaller rival is possible.\", \\n            \"link\": \"http://www.bloomberg.com/news/articles/2016-06-14/hanjin-shipping-rises-as-merger-hope-eases-concern-over-survival\", \\n            \"title\": \"Hanjin Shipping Rises as Merger Hope Eases Concern Over Survival\"\\n        }, \\n        {\\n            \"category\": \"Hanjin shipping\", \\n            \"source\": \"GCaptain\", \\n            \"content_snippet\": \"Hanjin Shipping, South Korea\\'s biggest container shipping line, climbed 6.3 percent to close at 2,290 won, the largest gain since June 7. Hyundai Merchant Marine Co.\", \\n            \"link\": \"http://gcaptain.com/hanjin-shipping-rises-amid-merger-talks/\", \\n            \"title\": \"Hanjin Shipping Rises Amid Merger Talks\"\\n        }, \\n        {\\n            \"category\": \"Hanjin shipping\", \\n            \"source\": \"Korea Times\", \\n            \"content_snippet\": \"\\\\\"Once the normalization program for the two shipping companies is wrapped up, the government will consider various plans including the merger of the companies,\\\\\" said Financial Services Commission (FSC) Chairman Yim Jong-yong at a news conference.\", \\n            \"link\": \"http://www.koreatimes.co.kr/www/news/biz/2016/06/488_206879.html\", \\n            \"title\": \"Gov\\'t hints at merger of HMM, Hanjin Shipping\"\\n        }, \\n        {\\n            \"category\": \"Hanjin shipping\", \\n            \"source\": \"BusinessKorea\", \\n            \"content_snippet\": \"The South Korean government made an announcement on June 8 regarding the restructuring of Hyundai Merchant Marine and Hanjin Shipping. According to the announcement, Hyundai Merchant Marine should succeed in joining a global shipping alliance,\\xa0...\", \\n            \"link\": \"http://www.businesskorea.co.kr/english/news/industry/14926-final-survivor-which-hanjin-shipping-and-hyundai-merchant-marine-will-survive\", \\n            \"title\": \"Which of Hanjin Shipping and Hyundai Merchant Marine Will Survive?\"\\n        }, \\n        {\\n            \"category\": \"Hanjin shipping\", \\n            \"source\": \"Hellenic Shipping News Worldwide\", \\n            \"content_snippet\": \"Hanjin Group chairman Cho Yang-ho sat down with Gerry Wang, the owner of the world\\'s largest container firm Seaspan Corp., to persuade him to cut chartering prices.\", \\n            \"link\": \"http://www.hellenicshippingnews.com/hanjin-chairman-asks-seaspans-wang-for-price-cut/\", \\n            \"title\": \"Hanjin chairman asks Seaspan\\'s Wang for price cut\"\\n        }, \\n        {\\n            \"category\": \"Hanjin shipping\", \\n            \"source\": \"JOC.com\", \\n            \"content_snippet\": \"Hanjin Shipping, South Korea\\'s largest container line, is taking its seat at the negotiation table with tonnage providers in a bid to secure lower charter costs to help the battered ocean carrier restructure its finances.\", \\n            \"link\": \"http://www.joc.com/maritime-news/container-lines/hanjin-shipping/hanjin-begins-charter-talks-critical-its-survival_20160606.html\", \\n            \"title\": \"Hanjin begins charter talks critical to its survival\"\\n        }, \\n        {\\n            \"category\": \"Hanjin shipping\", \\n            \"source\": \"TradeWinds (subscription)\", \\n            \"content_snippet\": \"A report has claimed the Korean government will ask Hanjin Shipping\\'s biggest investor to inject KRW 1 trillion ($863m) as part of the shipowner\\'s restructuring.\", \\n            \"link\": \"http://www.tradewindsnews.com/liner/763570/korean-air-asked-to-pump-usd-863m-into-hanjin-shipping\", \\n            \"title\": \"Korean Air asked to pump $863m into Hanjin Shipping\"\\n        }, \\n        {\\n            \"category\": \"Hanjin shipping\", \\n            \"source\": \"Hellenic Shipping News Worldwide\", \\n            \"content_snippet\": \"A former head of Hanjin Shipping Co. was summoned by prosecutors Wednesday over suspicions she illegally sold company stock after obtaining insider information to avoid losses.\", \\n            \"link\": \"http://www.hellenicshippingnews.com/ex-chairwoman-of-hanjin-shipping-summoned-over-illegal-stock-trading/\", \\n            \"title\": \"Ex-chairwoman of Hanjin Shipping summoned over illegal stock trading\"\\n        }, \\n        {\\n            \"category\": \"Hanjin shipping\", \\n            \"source\": \"\\u039d\\u03b1\\u03c5\\u03c4\\u03b9\\u03ba\\u03ac \\u03a7\\u03c1\\u03bf\\u03bd\\u03b9\\u03ba\\u03ac (\\u0394\\u03b5\\u03bb\\u03c4\\u03af\\u03bf \\u03a4\\u03cd\\u03c0\\u03bf\\u03c5)\", \\n            \"content_snippet\": \"\\u039f\\u03b9 \\u03b1\\u03c1\\u03bc\\u03cc\\u03b4\\u03b9\\u03b5\\u03c2 \\u03b4\\u03b9\\u03ba\\u03b1\\u03c3\\u03c4\\u03b9\\u03ba\\u03ad\\u03c2 \\u03b1\\u03c1\\u03c7\\u03ad\\u03c2, \\u03c3\\u03b5 \\u03c0\\u03c1\\u03c9\\u03c4\\u03bf\\u03b4\\u03b9\\u03ba\\u03b5\\u03af\\u03bf \\u03c4\\u03b7\\u03c2 \\u03a3\\u03b5\\u03bf\\u03cd\\u03bb, \\u03b1\\u03c0\\u03ad\\u03c1\\u03c1\\u03b9\\u03c8\\u03b1\\u03bd \\u03c4\\u03b7\\u03bd \\u03a4\\u03c1\\u03af\\u03c4\\u03b7 \\u03b1\\u03af\\u03c4\\u03b7\\u03bc\\u03b1 \\u03b1\\u03c0\\u03cc \\u03c4\\u03b7\\u03bd \\u03b1\\u03c1\\u03bc\\u03cc\\u03b4\\u03b9\\u03b1 \\u03b5\\u03b9\\u03c3\\u03b1\\u03b3\\u03b3\\u03b5\\u03bb\\u03af\\u03b1 \\u03b3\\u03b9\\u03b1 \\u03ad\\u03bd\\u03c4\\u03b1\\u03bb\\u03bc\\u03b1 \\u03c3\\u03cd\\u03bb\\u03bb\\u03b7\\u03c8\\u03b7\\u03c2 \\u03c4\\u03b7\\u03c2 \\u03c0\\u03c1\\u03ce\\u03b7\\u03bd \\u03b5\\u03c0\\u03b9\\u03ba\\u03b5\\u03c6\\u03b1\\u03bb\\u03ae\\u03c2 \\u03c4\\u03b7\\u03c2 Hanjin Shipping, \\u03b7 \\u03bf\\u03c0\\u03bf\\u03af\\u03b1 \\u03ba\\u03b1\\u03c4\\u03b7\\u03b3\\u03bf\\u03c1\\u03b5\\u03af\\u03c4\\u03b1\\u03b9 \\u03b3\\u03b9\\u03b1 \\u03c0\\u03b1\\u03c1\\u03ac\\u03bd\\u03bf\\u03bc\\u03b5\\u03c2 \\u03c7\\u03c1\\u03b7\\u03bc\\u03b1\\u03c4\\u03b9\\u03c3\\u03c4\\u03b7\\u03c1\\u03b9\\u03b1\\u03ba\\u03ad\\u03c2 \\u03c3\\u03c5\\u03bd\\u03b1\\u03bb\\u03bb\\u03b1\\u03b3\\u03ad\\u03c2.\", \\n            \"link\": \"http://www.naftikachronika.gr/2016/06/15/koryfonetai-i-agonia-gia-tis-dikastikes-diamaches-tis-hanjin-shipping/\", \\n            \"title\": \"\\u039a\\u03bf\\u03c1\\u03c5\\u03c6\\u03ce\\u03bd\\u03b5\\u03c4\\u03b1\\u03b9 \\u03b7 \\u03b1\\u03b3\\u03c9\\u03bd\\u03af\\u03b1 \\u03b3\\u03b9\\u03b1 \\u03c4\\u03b9\\u03c2 \\u03b4\\u03b9\\u03ba\\u03b1\\u03c3\\u03c4\\u03b9\\u03ba\\u03ad\\u03c2 \\u03b4\\u03b9\\u03b1\\u03bc\\u03ac\\u03c7\\u03b5\\u03c2 \\u03c4\\u03b7\\u03c2 Hanjin Shipping\"\\n        }, \\n        {\\n            \"category\": \"Hanjin shipping\", \\n            \"source\": \"Splash 247\", \\n            \"content_snippet\": \"Choi Eun-young, the former head of Hanjin Shipping, appeared before prosecutors in Seoul today, accused of insider trading.\", \\n            \"link\": \"http://splash247.com/former-hanjin-chairman-faces-prosecutors-insider-trading-charges/\", \\n            \"title\": \"Former Hanjin chairman faces prosecutors\\' insider trading charges\"\\n        }, \\n        {\\n            \"category\": \"Hanjin shipping\", \\n            \"source\": \"Maritime Professional\", \\n            \"content_snippet\": \"... allegedly sold their stockholding in the Korean line for about about 1 billion won (US$857,632) in losses days ahead of the company announcing a resturcuting, with prosectors convinced the sell off came from a tip off from sources within the ...\", \\n            \"link\": \"http://www.maritimeprofessional.com/news/former-hanjin-shipping-chairman-arrest-291016\", \\n            \"title\": \"Former Hanjin Shipping Chairman May Get Arrest Warrant\"\\n        }, \\n        {\\n            \"category\": \"Hanjin shipping\", \\n            \"source\": \"Korea JoongAng Daily\", \\n            \"content_snippet\": \"Korean Air, which has a 33.2 percent stake in Hanjin Shipping, poured in over a trillion won after Cho became chairman of the shipper in 2014.\", \\n            \"link\": \"http://koreajoongangdaily.joins.com/news/article/Article.aspx?aid=3019964\", \\n            \"title\": \"Creditors get tough on Hanjin Chairman Cho\"\\n        }, \\n        {\\n            \"category\": \"Hanjin shipping\", \\n            \"source\": \"Korea JoongAng Daily\", \\n            \"content_snippet\": \"Troubled Hanjin Shipping managed to extend the expiration date on 190 billion won ($161.8 million) in corporate bonds for another three months at the bondholders\\' meeting held Friday at its headquarters in Yeouido, western Seoul. It was the ...\", \\n            \"link\": \"http://koreajoongangdaily.joins.com/news/article/article.aspx?aid=3020164\", \\n            \"title\": \"\\ubcf5\\uc0ac URL \\uc904\\uc774\\uae30 \\ub808\\uc774\\uc5b4 \\ub2eb\\uae30\"\\n        }, \\n        {\\n            \"category\": \"Hanjin shipping\", \\n            \"source\": \"BusinessKorea\", \\n            \"content_snippet\": \"Hyundai Merchant Marine needs an approval from Hanjin Shipping to get the membership for the Alliance. Seoul, Korea. 16 June 2016 - 11:30am.\", \\n            \"link\": \"http://www.businesskorea.co.kr/english/news/industry/14998-ok-sign-needed-will-hyundai-merchant-marine-be-able-obtain-place-alliance\", \\n            \"title\": \"Will Hyundai Merchant Marine be Able to Obtain a Place in THE Alliance?\"\\n        }, \\n        {\\n            \"category\": \"Hanjin shipping\", \\n            \"source\": \"DNews - Seeker\", \\n            \"content_snippet\": \"Sixteen of the top 20 global container shipping lines have also in recent months announced their shark free cargo shipment policies.\", \\n            \"link\": \"http://www.seeker.com/fight-to-stop-illegal-shark-trade-extends-from-seas-to-skies-1864469848.html\", \\n            \"title\": \"Fight to Stop Shark Trade Extends to Skies\"\\n        }, \\n        {\\n            \"category\": \"Hanjin shipping\", \\n            \"source\": \"MoneyDJ\\u7406\\u8ca1\\u7db2\", \\n            \"content_snippet\": \"\\u7522\\u696d\\u6d88\\u606f\\u65b9\\u9762\\uff0c\\u97d3\\u570b\\u653f\\u5e9c\\u64ec\\u4fc3\\u6210\\u570b\\u5167\\u5169\\u5927\\u8239\\u904b\\u516c\\u53f8\\u5728\\u91cd\\u6574\\u5b8c\\u6210\\u5f8c\\u5408\\u4f75\\uff0c\\u6fc0\\u52f5\\u97d3\\u9032\\u6d77\\u904b\\uff08Hanjin Shipping\\uff09\\u52c1\\u63da6.26%\\u3001\\u73fe\\u4ee3\\u5546\\u8239\\uff08Hyundai Merchant Marine\\uff09\\u540c\\u6b65\\u4e0a\\u6f322.75%\\u3002 \\uff0a\\u7de8\\u8005\\u6309\\uff1a\\u672c\\u6587\\u50c5\\u4f9b\\u53c3\\u8003\\u4e4b\\u7528\\uff0c\\u4e26\\u4e0d\\u69cb\\u6210\\u8981\\u7d04\\u3001\\u62db\\u652c\\u6216\\u9080\\u8acb\\u3001\\u8a98\\u4f7f\\u3001\\u4efb\\u4f55\\u4e0d\\u8ad6\\u7a2e\\u985e\\u6216\\u5f62\\u5f0f\\u4e4b\\u7533\\u8ff0\\u6216\\xa0...\", \\n            \"link\": \"http://www.moneydj.com/KMDJ/News/NewsViewer.aspx?a=%7B229362e9-f438-4a09-a8a9-aaf7f204de61%7D\", \\n            \"title\": \"\\u300a\\u97d3\\u80a1\\u300b\\u82f1\\u570b\\u812b\\u6b50\\u98a8\\u96aa\\u589e\\uff0cKOSPI\\u9023\\u56db\\u9ed1\\u3001\\u76ea\\u5169\\u5468\\u4f4e\"\\n        }, \\n        {\\n            \"category\": \"Hanjin shipping\", \\n            \"source\": \"JOC.com\", \\n            \"content_snippet\": \"THE Alliance was announced in May and consists of Hanjin Shipping, MOL, NYK Line, \\u201cK\\u201d Line, Hapag-Lloyd and Yang Ming Line.\", \\n            \"link\": \"http://www.joc.com/maritime-news/container-lines/hyundai-merchant-marine/hmm-poised-join-alliance_20160616.html\", \\n            \"title\": \"HMM poised to join THE Alliance\"\\n        }, \\n        {\\n            \"category\": \"Hanjin shipping\", \\n            \"source\": \"Financial Times\", \\n            \"content_snippet\": \"Shares of Korea\\'s two biggest container lines - Hanjin Shipping and Hyundai Merchant Marine - fell sharply on Wednesday on worries about likely debt-for-equity swaps.\", \\n            \"link\": \"http://www.ft.com/cms/s/0/c7a9a8c4-2d48-11e6-9398-152a09ac4c4d.html\", \\n            \"title\": \"Seoul in $9.5bn effort to calm shipping sector storm\"\\n        }, \\n        {\\n            \"category\": \"Hanjin shipping\", \\n            \"source\": \"The Pulse\", \\n            \"content_snippet\": \"The Alabama State Port Authority (ASPA) has announced a new joint weekly, direct container shipping service between the Port of Mobile and key ports in Asia.\", \\n            \"link\": \"http://pulsegulfcoast.com/2016/06/port-mobile-gains-new-asian-shipping-route\", \\n            \"title\": \"Port of Mobile gains new Asian shipping route\"\\n        }, \\n        {\\n            \"category\": \"Hanjin shipping\", \\n            \"source\": \"The Korea Herald\", \\n            \"content_snippet\": \"... 27.21 percent to 20.34 percent. As for Hanjin KAL, the company plans to raise about 90.8 billion won to repay the short-term debt that resulted from the company\\'s acquisition of Hanjin Shipping\\'s trademark rights. By Choi He-suk (cheesuk@heraldcorp ...\", \\n            \"link\": \"http://www.koreaherald.com/view.php?ud=20160614000989\", \\n            \"title\": \"Hanjin chair sells unlisted stock to buy up Hanjin KAL shares\"\\n        }, \\n        {\\n            \"category\": \"Hanjin shipping\", \\n            \"source\": \"Nieuwsblad Transport\", \\n            \"content_snippet\": \"Scheepseigenaar Seaspan laat Hanjin bungelen. 17 juni 2016 11:37; Containervaart. Het is de noodlijdende Zuid-Koreaanse containerrederij Hanjin Shipping niet gelukt een korting af te dwingen op de charterschepen, zoals crediteuren eisten.\", \\n            \"link\": \"http://www.nieuwsbladtransport.nl/Nieuws/Article/tabid/85/ArticleID/49813/ArticleName/ScheepseigenaarSeaspanlaatHanjinbungelen/Default.aspx\", \\n            \"title\": \"Scheepseigenaar Seaspan laat Hanjin bungelen\"\\n        }, \\n        {\\n            \"category\": \"Hanjin shipping\", \\n            \"source\": \"Wall Street Journal\", \\n            \"content_snippet\": \"Real-time supply chain visibility is a Holy Grail for many companies that ship goods globally. But in a WSJ Guest Voices commentary, Jarrod Goentzel and Fredrik Eng Larsson of the Massachusetts Institute of Technology\\'s Center for Transportation and\\xa0...\", \\n            \"link\": \"http://www.wsj.com/articles/todays-top-supply-chain-and-logistics-news-from-wsj-1465986412\", \\n            \"title\": \"Today\\'s Top Supply Chain and Logistics News From WSJ\"\\n        }, \\n        {\\n            \"category\": \"Hanjin shipping\", \\n            \"source\": \"Maritime Professional\", \\n            \"content_snippet\": \"Hapag-Lloyd, NYK, MOL and Yang Ming already gave a nod, and Hyundai Merchant Marine can join the alliance once K Line and Hanjin Shipping give their approval. Korea Development Bank (KDB), HMM\\'s creditor, said that it would provide \\u201cfull support\\u201d so\\xa0...\", \\n            \"link\": \"http://www.maritimeprofessional.com/news/alliance-beckons-291290\", \\n            \"title\": \"THE Alliance Beckons HMM\"\\n        }, \\n        {\\n            \"category\": \"Hanjin shipping\", \\n            \"source\": \"TradeWinds (subscription)\", \\n            \"content_snippet\": \"H Line was established two years ago as a spin-off from compatriot owner Hanjin Shipping\\'s bulkers and LNG carriers. The two sales mean that at least 59 capesize or larger bulkers have been sold for scrap so far this year, against 96 in the whole of 2015.\", \\n            \"link\": \"http://www.tradewindsnews.com/weekly/764462/two-more-capes-head-to-the-breakers\", \\n            \"title\": \"Two more capes head to the breakers\"\\n        }\\n    ]\\n}'"
      ]
     },
     "execution_count": 56,
     "metadata": {},
     "output_type": "execute_result"
    }
   ],
   "source": [
    "import json\n",
    "import gnp\n",
    "#import codec\n",
    "a = gnp.get_google_news_query(\"Hanjin shipping\")\n",
    "j = json.dumps(a, indent=4, ensure_ascii=False )\n",
    "j.decode('utf-8')"
   ]
  },
  {
   "cell_type": "code",
   "execution_count": 60,
   "metadata": {
    "collapsed": false
   },
   "outputs": [],
   "source": [
    "b = json.loads(j)"
   ]
  },
  {
   "cell_type": "code",
   "execution_count": 61,
   "metadata": {
    "collapsed": false
   },
   "outputs": [
    {
     "data": {
      "text/plain": [
       "{u'timestamp': u'2016-06-18 17:35:14.991638',\n",
       " u'url': u'https://news.google.com/news?q=Hanjin%20shipping'}"
      ]
     },
     "execution_count": 61,
     "metadata": {},
     "output_type": "execute_result"
    }
   ],
   "source": [
    "b['meta']"
   ]
  },
  {
   "cell_type": "code",
   "execution_count": null,
   "metadata": {
    "collapsed": true
   },
   "outputs": [],
   "source": []
  }
 ],
 "metadata": {
  "kernelspec": {
   "display_name": "Python 2",
   "language": "python",
   "name": "python2"
  },
  "language_info": {
   "codemirror_mode": {
    "name": "ipython",
    "version": 2
   },
   "file_extension": ".py",
   "mimetype": "text/x-python",
   "name": "python",
   "nbconvert_exporter": "python",
   "pygments_lexer": "ipython2",
   "version": "2.7.11"
  }
 },
 "nbformat": 4,
 "nbformat_minor": 0
}
